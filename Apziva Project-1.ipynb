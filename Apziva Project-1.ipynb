{
 "cells": [
  {
   "cell_type": "markdown",
   "id": "ed344ebf",
   "metadata": {},
   "source": [
    "## Apziva Project-1"
   ]
  },
  {
   "cell_type": "markdown",
   "id": "d9842280",
   "metadata": {},
   "source": [
    "Importing the required libraries"
   ]
  },
  {
   "cell_type": "code",
   "execution_count": 1,
   "id": "9e24da0a",
   "metadata": {},
   "outputs": [],
   "source": [
    "\n",
    "import pandas as pd\n",
    "#import numpy as np\n",
    "#import sklearn\n",
    "\n",
    "import seaborn as sns\n",
    "import matplotlib.pyplot as plt"
   ]
  },
  {
   "cell_type": "markdown",
   "id": "32a1b341",
   "metadata": {},
   "source": [
    "Loading the data"
   ]
  },
  {
   "cell_type": "code",
   "execution_count": 2,
   "id": "3e4e92e3",
   "metadata": {},
   "outputs": [],
   "source": [
    "df_main = pd.read_csv('ACME-HappinessSurvey2020.csv')"
   ]
  },
  {
   "cell_type": "code",
   "execution_count": 3,
   "id": "6fc5107a",
   "metadata": {},
   "outputs": [
    {
     "data": {
      "text/html": [
       "<div>\n",
       "<style scoped>\n",
       "    .dataframe tbody tr th:only-of-type {\n",
       "        vertical-align: middle;\n",
       "    }\n",
       "\n",
       "    .dataframe tbody tr th {\n",
       "        vertical-align: top;\n",
       "    }\n",
       "\n",
       "    .dataframe thead th {\n",
       "        text-align: right;\n",
       "    }\n",
       "</style>\n",
       "<table border=\"1\" class=\"dataframe\">\n",
       "  <thead>\n",
       "    <tr style=\"text-align: right;\">\n",
       "      <th></th>\n",
       "      <th>Y</th>\n",
       "      <th>X1</th>\n",
       "      <th>X2</th>\n",
       "      <th>X3</th>\n",
       "      <th>X4</th>\n",
       "      <th>X5</th>\n",
       "      <th>X6</th>\n",
       "    </tr>\n",
       "  </thead>\n",
       "  <tbody>\n",
       "    <tr>\n",
       "      <th>0</th>\n",
       "      <td>0</td>\n",
       "      <td>3</td>\n",
       "      <td>3</td>\n",
       "      <td>3</td>\n",
       "      <td>4</td>\n",
       "      <td>2</td>\n",
       "      <td>4</td>\n",
       "    </tr>\n",
       "    <tr>\n",
       "      <th>1</th>\n",
       "      <td>0</td>\n",
       "      <td>3</td>\n",
       "      <td>2</td>\n",
       "      <td>3</td>\n",
       "      <td>5</td>\n",
       "      <td>4</td>\n",
       "      <td>3</td>\n",
       "    </tr>\n",
       "    <tr>\n",
       "      <th>2</th>\n",
       "      <td>1</td>\n",
       "      <td>5</td>\n",
       "      <td>3</td>\n",
       "      <td>3</td>\n",
       "      <td>3</td>\n",
       "      <td>3</td>\n",
       "      <td>5</td>\n",
       "    </tr>\n",
       "    <tr>\n",
       "      <th>3</th>\n",
       "      <td>0</td>\n",
       "      <td>5</td>\n",
       "      <td>4</td>\n",
       "      <td>3</td>\n",
       "      <td>3</td>\n",
       "      <td>3</td>\n",
       "      <td>5</td>\n",
       "    </tr>\n",
       "    <tr>\n",
       "      <th>4</th>\n",
       "      <td>0</td>\n",
       "      <td>5</td>\n",
       "      <td>4</td>\n",
       "      <td>3</td>\n",
       "      <td>3</td>\n",
       "      <td>3</td>\n",
       "      <td>5</td>\n",
       "    </tr>\n",
       "    <tr>\n",
       "      <th>...</th>\n",
       "      <td>...</td>\n",
       "      <td>...</td>\n",
       "      <td>...</td>\n",
       "      <td>...</td>\n",
       "      <td>...</td>\n",
       "      <td>...</td>\n",
       "      <td>...</td>\n",
       "    </tr>\n",
       "    <tr>\n",
       "      <th>121</th>\n",
       "      <td>1</td>\n",
       "      <td>5</td>\n",
       "      <td>2</td>\n",
       "      <td>3</td>\n",
       "      <td>4</td>\n",
       "      <td>4</td>\n",
       "      <td>3</td>\n",
       "    </tr>\n",
       "    <tr>\n",
       "      <th>122</th>\n",
       "      <td>1</td>\n",
       "      <td>5</td>\n",
       "      <td>2</td>\n",
       "      <td>3</td>\n",
       "      <td>4</td>\n",
       "      <td>2</td>\n",
       "      <td>5</td>\n",
       "    </tr>\n",
       "    <tr>\n",
       "      <th>123</th>\n",
       "      <td>1</td>\n",
       "      <td>5</td>\n",
       "      <td>3</td>\n",
       "      <td>3</td>\n",
       "      <td>4</td>\n",
       "      <td>4</td>\n",
       "      <td>5</td>\n",
       "    </tr>\n",
       "    <tr>\n",
       "      <th>124</th>\n",
       "      <td>0</td>\n",
       "      <td>4</td>\n",
       "      <td>3</td>\n",
       "      <td>3</td>\n",
       "      <td>4</td>\n",
       "      <td>4</td>\n",
       "      <td>5</td>\n",
       "    </tr>\n",
       "    <tr>\n",
       "      <th>125</th>\n",
       "      <td>0</td>\n",
       "      <td>5</td>\n",
       "      <td>3</td>\n",
       "      <td>2</td>\n",
       "      <td>5</td>\n",
       "      <td>5</td>\n",
       "      <td>5</td>\n",
       "    </tr>\n",
       "  </tbody>\n",
       "</table>\n",
       "<p>126 rows × 7 columns</p>\n",
       "</div>"
      ],
      "text/plain": [
       "     Y  X1  X2  X3  X4  X5  X6\n",
       "0    0   3   3   3   4   2   4\n",
       "1    0   3   2   3   5   4   3\n",
       "2    1   5   3   3   3   3   5\n",
       "3    0   5   4   3   3   3   5\n",
       "4    0   5   4   3   3   3   5\n",
       "..  ..  ..  ..  ..  ..  ..  ..\n",
       "121  1   5   2   3   4   4   3\n",
       "122  1   5   2   3   4   2   5\n",
       "123  1   5   3   3   4   4   5\n",
       "124  0   4   3   3   4   4   5\n",
       "125  0   5   3   2   5   5   5\n",
       "\n",
       "[126 rows x 7 columns]"
      ]
     },
     "execution_count": 3,
     "metadata": {},
     "output_type": "execute_result"
    }
   ],
   "source": [
    "df_main"
   ]
  },
  {
   "cell_type": "code",
   "execution_count": 4,
   "id": "2e806902",
   "metadata": {},
   "outputs": [
    {
     "data": {
      "text/html": [
       "<div>\n",
       "<style scoped>\n",
       "    .dataframe tbody tr th:only-of-type {\n",
       "        vertical-align: middle;\n",
       "    }\n",
       "\n",
       "    .dataframe tbody tr th {\n",
       "        vertical-align: top;\n",
       "    }\n",
       "\n",
       "    .dataframe thead th {\n",
       "        text-align: right;\n",
       "    }\n",
       "</style>\n",
       "<table border=\"1\" class=\"dataframe\">\n",
       "  <thead>\n",
       "    <tr style=\"text-align: right;\">\n",
       "      <th></th>\n",
       "      <th>Y</th>\n",
       "      <th>X1</th>\n",
       "      <th>X2</th>\n",
       "      <th>X3</th>\n",
       "      <th>X4</th>\n",
       "      <th>X5</th>\n",
       "      <th>X6</th>\n",
       "    </tr>\n",
       "  </thead>\n",
       "  <tbody>\n",
       "    <tr>\n",
       "      <th>count</th>\n",
       "      <td>126.000000</td>\n",
       "      <td>126.000000</td>\n",
       "      <td>126.000000</td>\n",
       "      <td>126.000000</td>\n",
       "      <td>126.000000</td>\n",
       "      <td>126.000000</td>\n",
       "      <td>126.000000</td>\n",
       "    </tr>\n",
       "    <tr>\n",
       "      <th>mean</th>\n",
       "      <td>0.547619</td>\n",
       "      <td>4.333333</td>\n",
       "      <td>2.531746</td>\n",
       "      <td>3.309524</td>\n",
       "      <td>3.746032</td>\n",
       "      <td>3.650794</td>\n",
       "      <td>4.253968</td>\n",
       "    </tr>\n",
       "    <tr>\n",
       "      <th>std</th>\n",
       "      <td>0.499714</td>\n",
       "      <td>0.800000</td>\n",
       "      <td>1.114892</td>\n",
       "      <td>1.023440</td>\n",
       "      <td>0.875776</td>\n",
       "      <td>1.147641</td>\n",
       "      <td>0.809311</td>\n",
       "    </tr>\n",
       "    <tr>\n",
       "      <th>min</th>\n",
       "      <td>0.000000</td>\n",
       "      <td>1.000000</td>\n",
       "      <td>1.000000</td>\n",
       "      <td>1.000000</td>\n",
       "      <td>1.000000</td>\n",
       "      <td>1.000000</td>\n",
       "      <td>1.000000</td>\n",
       "    </tr>\n",
       "    <tr>\n",
       "      <th>25%</th>\n",
       "      <td>0.000000</td>\n",
       "      <td>4.000000</td>\n",
       "      <td>2.000000</td>\n",
       "      <td>3.000000</td>\n",
       "      <td>3.000000</td>\n",
       "      <td>3.000000</td>\n",
       "      <td>4.000000</td>\n",
       "    </tr>\n",
       "    <tr>\n",
       "      <th>50%</th>\n",
       "      <td>1.000000</td>\n",
       "      <td>5.000000</td>\n",
       "      <td>3.000000</td>\n",
       "      <td>3.000000</td>\n",
       "      <td>4.000000</td>\n",
       "      <td>4.000000</td>\n",
       "      <td>4.000000</td>\n",
       "    </tr>\n",
       "    <tr>\n",
       "      <th>75%</th>\n",
       "      <td>1.000000</td>\n",
       "      <td>5.000000</td>\n",
       "      <td>3.000000</td>\n",
       "      <td>4.000000</td>\n",
       "      <td>4.000000</td>\n",
       "      <td>4.000000</td>\n",
       "      <td>5.000000</td>\n",
       "    </tr>\n",
       "    <tr>\n",
       "      <th>max</th>\n",
       "      <td>1.000000</td>\n",
       "      <td>5.000000</td>\n",
       "      <td>5.000000</td>\n",
       "      <td>5.000000</td>\n",
       "      <td>5.000000</td>\n",
       "      <td>5.000000</td>\n",
       "      <td>5.000000</td>\n",
       "    </tr>\n",
       "  </tbody>\n",
       "</table>\n",
       "</div>"
      ],
      "text/plain": [
       "                Y          X1          X2          X3          X4          X5  \\\n",
       "count  126.000000  126.000000  126.000000  126.000000  126.000000  126.000000   \n",
       "mean     0.547619    4.333333    2.531746    3.309524    3.746032    3.650794   \n",
       "std      0.499714    0.800000    1.114892    1.023440    0.875776    1.147641   \n",
       "min      0.000000    1.000000    1.000000    1.000000    1.000000    1.000000   \n",
       "25%      0.000000    4.000000    2.000000    3.000000    3.000000    3.000000   \n",
       "50%      1.000000    5.000000    3.000000    3.000000    4.000000    4.000000   \n",
       "75%      1.000000    5.000000    3.000000    4.000000    4.000000    4.000000   \n",
       "max      1.000000    5.000000    5.000000    5.000000    5.000000    5.000000   \n",
       "\n",
       "               X6  \n",
       "count  126.000000  \n",
       "mean     4.253968  \n",
       "std      0.809311  \n",
       "min      1.000000  \n",
       "25%      4.000000  \n",
       "50%      4.000000  \n",
       "75%      5.000000  \n",
       "max      5.000000  "
      ]
     },
     "execution_count": 4,
     "metadata": {},
     "output_type": "execute_result"
    }
   ],
   "source": [
    "df_main.describe()"
   ]
  },
  {
   "cell_type": "code",
   "execution_count": 5,
   "id": "d6707872",
   "metadata": {},
   "outputs": [
    {
     "name": "stdout",
     "output_type": "stream",
     "text": [
      "<class 'pandas.core.frame.DataFrame'>\n",
      "RangeIndex: 126 entries, 0 to 125\n",
      "Data columns (total 7 columns):\n",
      " #   Column  Non-Null Count  Dtype\n",
      "---  ------  --------------  -----\n",
      " 0   Y       126 non-null    int64\n",
      " 1   X1      126 non-null    int64\n",
      " 2   X2      126 non-null    int64\n",
      " 3   X3      126 non-null    int64\n",
      " 4   X4      126 non-null    int64\n",
      " 5   X5      126 non-null    int64\n",
      " 6   X6      126 non-null    int64\n",
      "dtypes: int64(7)\n",
      "memory usage: 7.0 KB\n"
     ]
    }
   ],
   "source": [
    "df_main.info()"
   ]
  },
  {
   "cell_type": "code",
   "execution_count": 6,
   "id": "e3776c8f",
   "metadata": {},
   "outputs": [
    {
     "data": {
      "text/plain": [
       "(126, 7)"
      ]
     },
     "execution_count": 6,
     "metadata": {},
     "output_type": "execute_result"
    }
   ],
   "source": [
    "df_main.shape"
   ]
  },
  {
   "cell_type": "markdown",
   "id": "b6007aee",
   "metadata": {},
   "source": [
    "##### Checking NULL values"
   ]
  },
  {
   "cell_type": "code",
   "execution_count": 7,
   "id": "6a624520",
   "metadata": {},
   "outputs": [
    {
     "data": {
      "text/html": [
       "<div>\n",
       "<style scoped>\n",
       "    .dataframe tbody tr th:only-of-type {\n",
       "        vertical-align: middle;\n",
       "    }\n",
       "\n",
       "    .dataframe tbody tr th {\n",
       "        vertical-align: top;\n",
       "    }\n",
       "\n",
       "    .dataframe thead th {\n",
       "        text-align: right;\n",
       "    }\n",
       "</style>\n",
       "<table border=\"1\" class=\"dataframe\">\n",
       "  <thead>\n",
       "    <tr style=\"text-align: right;\">\n",
       "      <th></th>\n",
       "      <th>Y</th>\n",
       "      <th>X1</th>\n",
       "      <th>X2</th>\n",
       "      <th>X3</th>\n",
       "      <th>X4</th>\n",
       "      <th>X5</th>\n",
       "      <th>X6</th>\n",
       "    </tr>\n",
       "  </thead>\n",
       "  <tbody>\n",
       "    <tr>\n",
       "      <th>0</th>\n",
       "      <td>False</td>\n",
       "      <td>False</td>\n",
       "      <td>False</td>\n",
       "      <td>False</td>\n",
       "      <td>False</td>\n",
       "      <td>False</td>\n",
       "      <td>False</td>\n",
       "    </tr>\n",
       "    <tr>\n",
       "      <th>1</th>\n",
       "      <td>False</td>\n",
       "      <td>False</td>\n",
       "      <td>False</td>\n",
       "      <td>False</td>\n",
       "      <td>False</td>\n",
       "      <td>False</td>\n",
       "      <td>False</td>\n",
       "    </tr>\n",
       "    <tr>\n",
       "      <th>2</th>\n",
       "      <td>False</td>\n",
       "      <td>False</td>\n",
       "      <td>False</td>\n",
       "      <td>False</td>\n",
       "      <td>False</td>\n",
       "      <td>False</td>\n",
       "      <td>False</td>\n",
       "    </tr>\n",
       "    <tr>\n",
       "      <th>3</th>\n",
       "      <td>False</td>\n",
       "      <td>False</td>\n",
       "      <td>False</td>\n",
       "      <td>False</td>\n",
       "      <td>False</td>\n",
       "      <td>False</td>\n",
       "      <td>False</td>\n",
       "    </tr>\n",
       "    <tr>\n",
       "      <th>4</th>\n",
       "      <td>False</td>\n",
       "      <td>False</td>\n",
       "      <td>False</td>\n",
       "      <td>False</td>\n",
       "      <td>False</td>\n",
       "      <td>False</td>\n",
       "      <td>False</td>\n",
       "    </tr>\n",
       "    <tr>\n",
       "      <th>...</th>\n",
       "      <td>...</td>\n",
       "      <td>...</td>\n",
       "      <td>...</td>\n",
       "      <td>...</td>\n",
       "      <td>...</td>\n",
       "      <td>...</td>\n",
       "      <td>...</td>\n",
       "    </tr>\n",
       "    <tr>\n",
       "      <th>121</th>\n",
       "      <td>False</td>\n",
       "      <td>False</td>\n",
       "      <td>False</td>\n",
       "      <td>False</td>\n",
       "      <td>False</td>\n",
       "      <td>False</td>\n",
       "      <td>False</td>\n",
       "    </tr>\n",
       "    <tr>\n",
       "      <th>122</th>\n",
       "      <td>False</td>\n",
       "      <td>False</td>\n",
       "      <td>False</td>\n",
       "      <td>False</td>\n",
       "      <td>False</td>\n",
       "      <td>False</td>\n",
       "      <td>False</td>\n",
       "    </tr>\n",
       "    <tr>\n",
       "      <th>123</th>\n",
       "      <td>False</td>\n",
       "      <td>False</td>\n",
       "      <td>False</td>\n",
       "      <td>False</td>\n",
       "      <td>False</td>\n",
       "      <td>False</td>\n",
       "      <td>False</td>\n",
       "    </tr>\n",
       "    <tr>\n",
       "      <th>124</th>\n",
       "      <td>False</td>\n",
       "      <td>False</td>\n",
       "      <td>False</td>\n",
       "      <td>False</td>\n",
       "      <td>False</td>\n",
       "      <td>False</td>\n",
       "      <td>False</td>\n",
       "    </tr>\n",
       "    <tr>\n",
       "      <th>125</th>\n",
       "      <td>False</td>\n",
       "      <td>False</td>\n",
       "      <td>False</td>\n",
       "      <td>False</td>\n",
       "      <td>False</td>\n",
       "      <td>False</td>\n",
       "      <td>False</td>\n",
       "    </tr>\n",
       "  </tbody>\n",
       "</table>\n",
       "<p>126 rows × 7 columns</p>\n",
       "</div>"
      ],
      "text/plain": [
       "         Y     X1     X2     X3     X4     X5     X6\n",
       "0    False  False  False  False  False  False  False\n",
       "1    False  False  False  False  False  False  False\n",
       "2    False  False  False  False  False  False  False\n",
       "3    False  False  False  False  False  False  False\n",
       "4    False  False  False  False  False  False  False\n",
       "..     ...    ...    ...    ...    ...    ...    ...\n",
       "121  False  False  False  False  False  False  False\n",
       "122  False  False  False  False  False  False  False\n",
       "123  False  False  False  False  False  False  False\n",
       "124  False  False  False  False  False  False  False\n",
       "125  False  False  False  False  False  False  False\n",
       "\n",
       "[126 rows x 7 columns]"
      ]
     },
     "execution_count": 7,
     "metadata": {},
     "output_type": "execute_result"
    }
   ],
   "source": [
    "df_main.isnull()"
   ]
  },
  {
   "cell_type": "code",
   "execution_count": 8,
   "id": "f9873e9e",
   "metadata": {},
   "outputs": [
    {
     "data": {
      "text/plain": [
       "Y     0\n",
       "X1    0\n",
       "X2    0\n",
       "X3    0\n",
       "X4    0\n",
       "X5    0\n",
       "X6    0\n",
       "dtype: int64"
      ]
     },
     "execution_count": 8,
     "metadata": {},
     "output_type": "execute_result"
    }
   ],
   "source": [
    "df_main.isnull().sum()"
   ]
  },
  {
   "cell_type": "code",
   "execution_count": 9,
   "id": "2ad2b08f",
   "metadata": {},
   "outputs": [
    {
     "data": {
      "text/plain": [
       "Y     126\n",
       "X1    126\n",
       "X2    126\n",
       "X3    126\n",
       "X4    126\n",
       "X5    126\n",
       "X6    126\n",
       "dtype: int64"
      ]
     },
     "execution_count": 9,
     "metadata": {},
     "output_type": "execute_result"
    }
   ],
   "source": [
    "df_main[df_main.notnull()].count()"
   ]
  },
  {
   "cell_type": "code",
   "execution_count": 10,
   "id": "51842066",
   "metadata": {},
   "outputs": [
    {
     "data": {
      "text/plain": [
       "Y     0\n",
       "X1    0\n",
       "X2    0\n",
       "X3    0\n",
       "X4    0\n",
       "X5    0\n",
       "X6    0\n",
       "dtype: int64"
      ]
     },
     "execution_count": 10,
     "metadata": {},
     "output_type": "execute_result"
    }
   ],
   "source": [
    "df_main[df_main.isnull()].count()"
   ]
  },
  {
   "cell_type": "markdown",
   "id": "3e6d1eb7",
   "metadata": {},
   "source": [
    "This shows that there are no NULL values in the data set. "
   ]
  },
  {
   "cell_type": "markdown",
   "id": "d9efaa6a",
   "metadata": {},
   "source": [
    "##### Outliers detection"
   ]
  },
  {
   "cell_type": "markdown",
   "id": "dbc64050",
   "metadata": {},
   "source": [
    "First we'll separate the dependent/target variable from data set. "
   ]
  },
  {
   "cell_type": "code",
   "execution_count": 11,
   "id": "629b5a53",
   "metadata": {},
   "outputs": [],
   "source": [
    "df_X = df_main.iloc[:, 1:7]\n",
    "df_y = df_main.iloc[:, :1]"
   ]
  },
  {
   "cell_type": "code",
   "execution_count": 12,
   "id": "2dd8a260",
   "metadata": {},
   "outputs": [
    {
     "data": {
      "text/html": [
       "<div>\n",
       "<style scoped>\n",
       "    .dataframe tbody tr th:only-of-type {\n",
       "        vertical-align: middle;\n",
       "    }\n",
       "\n",
       "    .dataframe tbody tr th {\n",
       "        vertical-align: top;\n",
       "    }\n",
       "\n",
       "    .dataframe thead th {\n",
       "        text-align: right;\n",
       "    }\n",
       "</style>\n",
       "<table border=\"1\" class=\"dataframe\">\n",
       "  <thead>\n",
       "    <tr style=\"text-align: right;\">\n",
       "      <th></th>\n",
       "      <th>X1</th>\n",
       "      <th>X2</th>\n",
       "      <th>X3</th>\n",
       "      <th>X4</th>\n",
       "      <th>X5</th>\n",
       "      <th>X6</th>\n",
       "    </tr>\n",
       "  </thead>\n",
       "  <tbody>\n",
       "    <tr>\n",
       "      <th>0</th>\n",
       "      <td>3</td>\n",
       "      <td>3</td>\n",
       "      <td>3</td>\n",
       "      <td>4</td>\n",
       "      <td>2</td>\n",
       "      <td>4</td>\n",
       "    </tr>\n",
       "    <tr>\n",
       "      <th>1</th>\n",
       "      <td>3</td>\n",
       "      <td>2</td>\n",
       "      <td>3</td>\n",
       "      <td>5</td>\n",
       "      <td>4</td>\n",
       "      <td>3</td>\n",
       "    </tr>\n",
       "    <tr>\n",
       "      <th>2</th>\n",
       "      <td>5</td>\n",
       "      <td>3</td>\n",
       "      <td>3</td>\n",
       "      <td>3</td>\n",
       "      <td>3</td>\n",
       "      <td>5</td>\n",
       "    </tr>\n",
       "    <tr>\n",
       "      <th>3</th>\n",
       "      <td>5</td>\n",
       "      <td>4</td>\n",
       "      <td>3</td>\n",
       "      <td>3</td>\n",
       "      <td>3</td>\n",
       "      <td>5</td>\n",
       "    </tr>\n",
       "    <tr>\n",
       "      <th>4</th>\n",
       "      <td>5</td>\n",
       "      <td>4</td>\n",
       "      <td>3</td>\n",
       "      <td>3</td>\n",
       "      <td>3</td>\n",
       "      <td>5</td>\n",
       "    </tr>\n",
       "    <tr>\n",
       "      <th>...</th>\n",
       "      <td>...</td>\n",
       "      <td>...</td>\n",
       "      <td>...</td>\n",
       "      <td>...</td>\n",
       "      <td>...</td>\n",
       "      <td>...</td>\n",
       "    </tr>\n",
       "    <tr>\n",
       "      <th>121</th>\n",
       "      <td>5</td>\n",
       "      <td>2</td>\n",
       "      <td>3</td>\n",
       "      <td>4</td>\n",
       "      <td>4</td>\n",
       "      <td>3</td>\n",
       "    </tr>\n",
       "    <tr>\n",
       "      <th>122</th>\n",
       "      <td>5</td>\n",
       "      <td>2</td>\n",
       "      <td>3</td>\n",
       "      <td>4</td>\n",
       "      <td>2</td>\n",
       "      <td>5</td>\n",
       "    </tr>\n",
       "    <tr>\n",
       "      <th>123</th>\n",
       "      <td>5</td>\n",
       "      <td>3</td>\n",
       "      <td>3</td>\n",
       "      <td>4</td>\n",
       "      <td>4</td>\n",
       "      <td>5</td>\n",
       "    </tr>\n",
       "    <tr>\n",
       "      <th>124</th>\n",
       "      <td>4</td>\n",
       "      <td>3</td>\n",
       "      <td>3</td>\n",
       "      <td>4</td>\n",
       "      <td>4</td>\n",
       "      <td>5</td>\n",
       "    </tr>\n",
       "    <tr>\n",
       "      <th>125</th>\n",
       "      <td>5</td>\n",
       "      <td>3</td>\n",
       "      <td>2</td>\n",
       "      <td>5</td>\n",
       "      <td>5</td>\n",
       "      <td>5</td>\n",
       "    </tr>\n",
       "  </tbody>\n",
       "</table>\n",
       "<p>126 rows × 6 columns</p>\n",
       "</div>"
      ],
      "text/plain": [
       "     X1  X2  X3  X4  X5  X6\n",
       "0     3   3   3   4   2   4\n",
       "1     3   2   3   5   4   3\n",
       "2     5   3   3   3   3   5\n",
       "3     5   4   3   3   3   5\n",
       "4     5   4   3   3   3   5\n",
       "..   ..  ..  ..  ..  ..  ..\n",
       "121   5   2   3   4   4   3\n",
       "122   5   2   3   4   2   5\n",
       "123   5   3   3   4   4   5\n",
       "124   4   3   3   4   4   5\n",
       "125   5   3   2   5   5   5\n",
       "\n",
       "[126 rows x 6 columns]"
      ]
     },
     "execution_count": 12,
     "metadata": {},
     "output_type": "execute_result"
    }
   ],
   "source": [
    "df_X"
   ]
  },
  {
   "cell_type": "code",
   "execution_count": 13,
   "id": "c028e879",
   "metadata": {},
   "outputs": [
    {
     "data": {
      "image/png": "[encoded data removed]",
      "text/plain": [
       "<Figure size 432x288 with 1 Axes>"
      ]
     },
     "metadata": {
      "needs_background": "light"
     },
     "output_type": "display_data"
    }
   ],
   "source": [
    "plt.hist(df_X)\n",
    "plt.xticks([1, 2, 3, 4, 5])\n",
    "plt.title('Number of observations for each value of all X variables (X1 - X6)', fontsize=14)\n",
    "plt.xlabel('Values of X variables')\n",
    "plt.ylabel('Number of observations')\n",
    "plt.grid(True)\n",
    "plt.legend(['X1', 'X2', 'X3', 'X4', 'X5', 'X6'])\n",
    "plt.show()"
   ]
  },
  {
   "cell_type": "code",
   "execution_count": 14,
   "id": "43570bf5",
   "metadata": {},
   "outputs": [
    {
     "data": {
      "image/png": "[encoded data removed]",
      "text/plain": [
       "<Figure size 432x288 with 1 Axes>"
      ]
     },
     "metadata": {
      "needs_background": "light"
     },
     "output_type": "display_data"
    }
   ],
   "source": [
    "plt.hist(df_X['X1'])\n",
    "plt.xticks([1, 2, 3, 4, 5])\n",
    "plt.xlabel('Value of X1')\n",
    "plt.ylabel('Number of observations')\n",
    "#plt.grid(True)\n",
    "plt.show()"
   ]
  },
  {
   "cell_type": "code",
   "execution_count": 15,
   "id": "d47324e0",
   "metadata": {},
   "outputs": [
    {
     "data": {
      "image/png": "[encoded data removed]",
      "text/plain": [
       "<Figure size 432x288 with 1 Axes>"
      ]
     },
     "metadata": {
      "needs_background": "light"
     },
     "output_type": "display_data"
    }
   ],
   "source": [
    "plt.hist(df_X['X2'])\n",
    "plt.xticks([1, 2, 3, 4, 5])\n",
    "plt.xlabel('Value of X2')\n",
    "plt.ylabel('Number of observations')\n",
    "#plt.grid(True)\n",
    "plt.show()"
   ]
  },
  {
   "cell_type": "code",
   "execution_count": 16,
   "id": "fe2ddafa",
   "metadata": {},
   "outputs": [
    {
     "data": {
      "image/png": "[encoded data removed]",
      "text/plain": [
       "<Figure size 432x288 with 1 Axes>"
      ]
     },
     "metadata": {
      "needs_background": "light"
     },
     "output_type": "display_data"
    }
   ],
   "source": [
    "plt.hist(df_X['X3'])\n",
    "plt.xticks([1, 2, 3, 4, 5])\n",
    "plt.xlabel('Value of X3')\n",
    "plt.ylabel('Number of observations')\n",
    "#plt.grid(True)\n",
    "plt.show()"
   ]
  },
  {
   "cell_type": "code",
   "execution_count": 17,
   "id": "14aff932",
   "metadata": {},
   "outputs": [
    {
     "data": {
      "image/png": "[encoded data removed]",
      "text/plain": [
       "<Figure size 432x288 with 1 Axes>"
      ]
     },
     "metadata": {
      "needs_background": "light"
     },
     "output_type": "display_data"
    }
   ],
   "source": [
    "plt.hist(df_X['X4'])\n",
    "plt.xticks([1, 2, 3, 4, 5])\n",
    "plt.xlabel('Value of X4')\n",
    "plt.ylabel('Number of observations')\n",
    "#plt.grid(True)\n",
    "plt.show()"
   ]
  },
  {
   "cell_type": "code",
   "execution_count": 18,
   "id": "61af9fb4",
   "metadata": {},
   "outputs": [
    {
     "data": {
      "image/png": "[encoded data removed]",
      "text/plain": [
       "<Figure size 432x288 with 1 Axes>"
      ]
     },
     "metadata": {
      "needs_background": "light"
     },
     "output_type": "display_data"
    }
   ],
   "source": [
    "plt.hist(df_X['X5'])\n",
    "plt.xticks([1, 2, 3, 4, 5])\n",
    "plt.xlabel('Value of X5')\n",
    "plt.ylabel('Number of observations')\n",
    "#plt.grid(True)\n",
    "plt.show()"
   ]
  },
  {
   "cell_type": "code",
   "execution_count": 19,
   "id": "3cfafe73",
   "metadata": {},
   "outputs": [
    {
     "data": {
      "image/png": "[encoded data removed]",
      "text/plain": [
       "<Figure size 432x288 with 1 Axes>"
      ]
     },
     "metadata": {
      "needs_background": "light"
     },
     "output_type": "display_data"
    }
   ],
   "source": [
    "plt.hist(df_X['X6'])\n",
    "plt.xticks([1, 2, 3, 4, 5])\n",
    "plt.xlabel('Value of X6')\n",
    "plt.ylabel('Number of observations')\n",
    "#plt.grid(True)\n",
    "plt.show()"
   ]
  },
  {
   "cell_type": "markdown",
   "id": "616f0704",
   "metadata": {},
   "source": [
    "We can see that all the independent variables have values between 1 and 5, so there are __no outliers__ in this dataset. Since this is a small dataset, there is no need to check the skewness. "
   ]
  },
  {
   "cell_type": "markdown",
   "id": "dcea8093",
   "metadata": {},
   "source": [
    "##### Correlation matrix"
   ]
  },
  {
   "cell_type": "code",
   "execution_count": 20,
   "id": "6061b515",
   "metadata": {},
   "outputs": [
    {
     "name": "stdout",
     "output_type": "stream",
     "text": [
      "          X1        X2        X3        X4        X5        X6\n",
      "X1  1.000000  0.059797  0.283358  0.087541  0.432772  0.411873\n",
      "X2  0.059797  1.000000  0.184129  0.114838  0.039996 -0.062205\n",
      "X3  0.283358  0.184129  1.000000  0.302618  0.358397  0.203750\n",
      "X4  0.087541  0.114838  0.302618  1.000000  0.293115  0.215888\n",
      "X5  0.432772  0.039996  0.358397  0.293115  1.000000  0.320195\n",
      "X6  0.411873 -0.062205  0.203750  0.215888  0.320195  1.000000\n"
     ]
    }
   ],
   "source": [
    "correlation = df_X.corr()\n",
    "print(correlation)"
   ]
  },
  {
   "cell_type": "code",
   "execution_count": 21,
   "id": "29aa948e",
   "metadata": {},
   "outputs": [
    {
     "data": {
      "text/plain": [
       "<AxesSubplot:>"
      ]
     },
     "execution_count": 21,
     "metadata": {},
     "output_type": "execute_result"
    },
    {
     "data": {
      "image/png": "[encoded data removed]",
      "text/plain": [
       "<Figure size 432x288 with 2 Axes>"
      ]
     },
     "metadata": {
      "needs_background": "light"
     },
     "output_type": "display_data"
    }
   ],
   "source": [
    "sns.heatmap(correlation, cmap = \"Greens\", annot = True)"
   ]
  },
  {
   "cell_type": "markdown",
   "id": "dbf80799",
   "metadata": {},
   "source": [
    "The correlation matrix shows that correlation between the different independent variable is very low (all values are less than 0.5 and most of them are in the range of 0.2 to 0.3."
   ]
  },
  {
   "cell_type": "code",
   "execution_count": null,
   "id": "3b3ae791",
   "metadata": {},
   "outputs": [],
   "source": []
  },
  {
   "cell_type": "markdown",
   "id": "b0585d8d",
   "metadata": {},
   "source": [
    "Now we will check correlation of the dependent variable __Y__ with each of the independent variables __X1 - X6__."
   ]
  },
  {
   "cell_type": "code",
   "execution_count": 22,
   "id": "107c30be",
   "metadata": {},
   "outputs": [
    {
     "data": {
      "text/html": [
       "<div>\n",
       "<style scoped>\n",
       "    .dataframe tbody tr th:only-of-type {\n",
       "        vertical-align: middle;\n",
       "    }\n",
       "\n",
       "    .dataframe tbody tr th {\n",
       "        vertical-align: top;\n",
       "    }\n",
       "\n",
       "    .dataframe thead th {\n",
       "        text-align: right;\n",
       "    }\n",
       "</style>\n",
       "<table border=\"1\" class=\"dataframe\">\n",
       "  <thead>\n",
       "    <tr style=\"text-align: right;\">\n",
       "      <th></th>\n",
       "      <th>Y</th>\n",
       "      <th>X1</th>\n",
       "      <th>X2</th>\n",
       "      <th>X3</th>\n",
       "      <th>X4</th>\n",
       "      <th>X5</th>\n",
       "      <th>X6</th>\n",
       "    </tr>\n",
       "  </thead>\n",
       "  <tbody>\n",
       "    <tr>\n",
       "      <th>0</th>\n",
       "      <td>0</td>\n",
       "      <td>3</td>\n",
       "      <td>3</td>\n",
       "      <td>3</td>\n",
       "      <td>4</td>\n",
       "      <td>2</td>\n",
       "      <td>4</td>\n",
       "    </tr>\n",
       "    <tr>\n",
       "      <th>1</th>\n",
       "      <td>0</td>\n",
       "      <td>3</td>\n",
       "      <td>2</td>\n",
       "      <td>3</td>\n",
       "      <td>5</td>\n",
       "      <td>4</td>\n",
       "      <td>3</td>\n",
       "    </tr>\n",
       "    <tr>\n",
       "      <th>2</th>\n",
       "      <td>1</td>\n",
       "      <td>5</td>\n",
       "      <td>3</td>\n",
       "      <td>3</td>\n",
       "      <td>3</td>\n",
       "      <td>3</td>\n",
       "      <td>5</td>\n",
       "    </tr>\n",
       "    <tr>\n",
       "      <th>3</th>\n",
       "      <td>0</td>\n",
       "      <td>5</td>\n",
       "      <td>4</td>\n",
       "      <td>3</td>\n",
       "      <td>3</td>\n",
       "      <td>3</td>\n",
       "      <td>5</td>\n",
       "    </tr>\n",
       "    <tr>\n",
       "      <th>4</th>\n",
       "      <td>0</td>\n",
       "      <td>5</td>\n",
       "      <td>4</td>\n",
       "      <td>3</td>\n",
       "      <td>3</td>\n",
       "      <td>3</td>\n",
       "      <td>5</td>\n",
       "    </tr>\n",
       "    <tr>\n",
       "      <th>...</th>\n",
       "      <td>...</td>\n",
       "      <td>...</td>\n",
       "      <td>...</td>\n",
       "      <td>...</td>\n",
       "      <td>...</td>\n",
       "      <td>...</td>\n",
       "      <td>...</td>\n",
       "    </tr>\n",
       "    <tr>\n",
       "      <th>121</th>\n",
       "      <td>1</td>\n",
       "      <td>5</td>\n",
       "      <td>2</td>\n",
       "      <td>3</td>\n",
       "      <td>4</td>\n",
       "      <td>4</td>\n",
       "      <td>3</td>\n",
       "    </tr>\n",
       "    <tr>\n",
       "      <th>122</th>\n",
       "      <td>1</td>\n",
       "      <td>5</td>\n",
       "      <td>2</td>\n",
       "      <td>3</td>\n",
       "      <td>4</td>\n",
       "      <td>2</td>\n",
       "      <td>5</td>\n",
       "    </tr>\n",
       "    <tr>\n",
       "      <th>123</th>\n",
       "      <td>1</td>\n",
       "      <td>5</td>\n",
       "      <td>3</td>\n",
       "      <td>3</td>\n",
       "      <td>4</td>\n",
       "      <td>4</td>\n",
       "      <td>5</td>\n",
       "    </tr>\n",
       "    <tr>\n",
       "      <th>124</th>\n",
       "      <td>0</td>\n",
       "      <td>4</td>\n",
       "      <td>3</td>\n",
       "      <td>3</td>\n",
       "      <td>4</td>\n",
       "      <td>4</td>\n",
       "      <td>5</td>\n",
       "    </tr>\n",
       "    <tr>\n",
       "      <th>125</th>\n",
       "      <td>0</td>\n",
       "      <td>5</td>\n",
       "      <td>3</td>\n",
       "      <td>2</td>\n",
       "      <td>5</td>\n",
       "      <td>5</td>\n",
       "      <td>5</td>\n",
       "    </tr>\n",
       "  </tbody>\n",
       "</table>\n",
       "<p>126 rows × 7 columns</p>\n",
       "</div>"
      ],
      "text/plain": [
       "     Y  X1  X2  X3  X4  X5  X6\n",
       "0    0   3   3   3   4   2   4\n",
       "1    0   3   2   3   5   4   3\n",
       "2    1   5   3   3   3   3   5\n",
       "3    0   5   4   3   3   3   5\n",
       "4    0   5   4   3   3   3   5\n",
       "..  ..  ..  ..  ..  ..  ..  ..\n",
       "121  1   5   2   3   4   4   3\n",
       "122  1   5   2   3   4   2   5\n",
       "123  1   5   3   3   4   4   5\n",
       "124  0   4   3   3   4   4   5\n",
       "125  0   5   3   2   5   5   5\n",
       "\n",
       "[126 rows x 7 columns]"
      ]
     },
     "execution_count": 22,
     "metadata": {},
     "output_type": "execute_result"
    }
   ],
   "source": [
    "df_main"
   ]
  },
  {
   "cell_type": "code",
   "execution_count": null,
   "id": "35742c70",
   "metadata": {},
   "outputs": [],
   "source": []
  },
  {
   "cell_type": "markdown",
   "id": "a7819a24",
   "metadata": {},
   "source": [
    "Printing the mean value of Y for each value of X1 variable."
   ]
  },
  {
   "cell_type": "code",
   "execution_count": 23,
   "id": "d5c5bac6",
   "metadata": {},
   "outputs": [
    {
     "name": "stdout",
     "output_type": "stream",
     "text": [
      "Mean value of Y for X1 = 1:    0.0\n",
      "Mean value of Y for X1 = 2:    nan\n",
      "Mean value of Y for X1 = 3:    0.4\n",
      "Mean value of Y for X1 = 4:    0.4\n",
      "Mean value of Y for X1 = 5:    0.6923076923076923\n"
     ]
    }
   ],
   "source": [
    "print(\"Mean value of Y for X1 = 1:   \", df_main['Y'].where(df_main['X1']==1).mean())\n",
    "print(\"Mean value of Y for X1 = 2:   \", df_main['Y'].where(df_main['X1']==2).mean())\n",
    "print(\"Mean value of Y for X1 = 3:   \", df_main['Y'].where(df_main['X1']==3).mean())\n",
    "print(\"Mean value of Y for X1 = 4:   \", df_main['Y'].where(df_main['X1']==4).mean())\n",
    "print(\"Mean value of Y for X1 = 5:   \", df_main['Y'].where(df_main['X1']==5).mean())"
   ]
  },
  {
   "cell_type": "code",
   "execution_count": 24,
   "id": "3f5d8f1d",
   "metadata": {},
   "outputs": [
    {
     "data": {
      "text/plain": [
       "0     NaN\n",
       "1     NaN\n",
       "2     NaN\n",
       "3     NaN\n",
       "4     NaN\n",
       "       ..\n",
       "121   NaN\n",
       "122   NaN\n",
       "123   NaN\n",
       "124   NaN\n",
       "125   NaN\n",
       "Name: Y, Length: 126, dtype: float64"
      ]
     },
     "execution_count": 24,
     "metadata": {},
     "output_type": "execute_result"
    }
   ],
   "source": [
    "df_main['Y'].where(df_main['X1']==2)   # checking the Y values for all X1 = 2"
   ]
  },
  {
   "cell_type": "code",
   "execution_count": 25,
   "id": "b7e7f1d3",
   "metadata": {},
   "outputs": [
    {
     "data": {
      "text/html": [
       "<div>\n",
       "<style scoped>\n",
       "    .dataframe tbody tr th:only-of-type {\n",
       "        vertical-align: middle;\n",
       "    }\n",
       "\n",
       "    .dataframe tbody tr th {\n",
       "        vertical-align: top;\n",
       "    }\n",
       "\n",
       "    .dataframe thead th {\n",
       "        text-align: right;\n",
       "    }\n",
       "</style>\n",
       "<table border=\"1\" class=\"dataframe\">\n",
       "  <thead>\n",
       "    <tr style=\"text-align: right;\">\n",
       "      <th></th>\n",
       "      <th>Y</th>\n",
       "      <th>X1</th>\n",
       "      <th>X2</th>\n",
       "      <th>X3</th>\n",
       "      <th>X4</th>\n",
       "      <th>X5</th>\n",
       "      <th>X6</th>\n",
       "    </tr>\n",
       "  </thead>\n",
       "  <tbody>\n",
       "    <tr>\n",
       "      <th>47</th>\n",
       "      <td>0</td>\n",
       "      <td>1</td>\n",
       "      <td>1</td>\n",
       "      <td>1</td>\n",
       "      <td>3</td>\n",
       "      <td>1</td>\n",
       "      <td>4</td>\n",
       "    </tr>\n",
       "  </tbody>\n",
       "</table>\n",
       "</div>"
      ],
      "text/plain": [
       "    Y  X1  X2  X3  X4  X5  X6\n",
       "47  0   1   1   1   3   1   4"
      ]
     },
     "execution_count": 25,
     "metadata": {},
     "output_type": "execute_result"
    }
   ],
   "source": [
    "df_main[df_main['X1']==1]   # checking the varirables values for X1 = 1"
   ]
  },
  {
   "cell_type": "code",
   "execution_count": 26,
   "id": "8cc561d5",
   "metadata": {},
   "outputs": [
    {
     "data": {
      "text/plain": [
       "65"
      ]
     },
     "execution_count": 26,
     "metadata": {},
     "output_type": "execute_result"
    }
   ],
   "source": [
    "df_main['X1'][df_main['X1']==5].count()   # checking the count of X1 = 5"
   ]
  },
  {
   "cell_type": "markdown",
   "id": "fe32b9d4",
   "metadata": {},
   "source": [
    "Plotting the Average of __Y__ variable against all X variables."
   ]
  },
  {
   "cell_type": "code",
   "execution_count": 27,
   "id": "c5c025d6",
   "metadata": {},
   "outputs": [
    {
     "data": {
      "image/png": "[encoded data removed]",
      "text/plain": [
       "<Figure size 432x288 with 2 Axes>"
      ]
     },
     "metadata": {
      "needs_background": "light"
     },
     "output_type": "display_data"
    }
   ],
   "source": [
    "\n",
    "fig,ax = plt.subplots()\n",
    "\n",
    "ax.plot(df_main['Y'].groupby(df_main['X1']).mean(), marker='o', label = 'Average value of Y')\n",
    "ax.set_xlabel('Value of X1')\n",
    "ax.set_ylabel('Average value of Y')\n",
    "ax.set_xlim([0.5, 5.5])\n",
    "ax.set_ylim([0.0, 1.2])\n",
    "ax.legend(loc=\"upper left\")\n",
    "\n",
    "ax2 = ax.twinx() \n",
    "ax2.hist(df_main['X1'], df_main['X1'].count(), color = 'red', label = 'Number of observations')\n",
    "ax2.set_ylabel('Number of observations') \n",
    "ax2.set_ylim([0, 120])\n",
    "ax2.legend(loc=\"upper right\")\n",
    "\n",
    "ax.set_title('Number of observations and Average value of Y for each value of X1')\n",
    "ax.grid(True)\n",
    "#plt.show()"
   ]
  },
  {
   "cell_type": "code",
   "execution_count": 28,
   "id": "74b7873f",
   "metadata": {},
   "outputs": [
    {
     "data": {
      "image/png": "[encoded data removed]",
      "text/plain": [
       "<Figure size 432x288 with 2 Axes>"
      ]
     },
     "metadata": {
      "needs_background": "light"
     },
     "output_type": "display_data"
    }
   ],
   "source": [
    "\n",
    "fig,ax = plt.subplots()\n",
    "\n",
    "ax.plot(df_main['Y'].groupby(df_main['X2']).mean(), marker='o', label = 'Average value of Y')\n",
    "ax.set_xlabel('Value of X2')\n",
    "ax.set_ylabel('Average value of Y')\n",
    "ax.set_xlim([0.5, 5.5])\n",
    "ax.set_ylim([0.0, 1.2])\n",
    "ax.legend(loc=\"upper left\")\n",
    "\n",
    "ax2 = ax.twinx() \n",
    "ax2.hist(df_main['X2'], df_main['X2'].count(), color = 'red', label = 'Number of observations')\n",
    "ax2.set_ylabel('Number of observations') \n",
    "ax2.set_ylim([0, 120])\n",
    "ax2.legend(loc=\"upper right\")\n",
    "\n",
    "ax.set_title('Number of observations and Average value of Y for each value of X2')\n",
    "ax.grid(True)\n",
    "plt.show()"
   ]
  },
  {
   "cell_type": "code",
   "execution_count": 29,
   "id": "0423c677",
   "metadata": {},
   "outputs": [
    {
     "data": {
      "image/png": "[encoded data removed]",
      "text/plain": [
       "<Figure size 432x288 with 2 Axes>"
      ]
     },
     "metadata": {
      "needs_background": "light"
     },
     "output_type": "display_data"
    }
   ],
   "source": [
    "\n",
    "fig,ax = plt.subplots()\n",
    "\n",
    "ax.plot(df_main['Y'].groupby(df_main['X3']).mean(), marker='o', label = 'Average value of Y')\n",
    "ax.set_xlabel('Value of X3')\n",
    "ax.set_ylabel('Average value of Y')\n",
    "ax.set_xlim([0.5, 5.5])\n",
    "ax.set_ylim([0.0, 1.2])\n",
    "ax.legend(loc=\"upper left\")\n",
    "\n",
    "ax2 = ax.twinx() \n",
    "ax2.hist(df_main['X3'], df_main['X3'].count(), color = 'red', label = 'Number of observations')\n",
    "ax2.set_ylabel('Number of observations') \n",
    "ax2.set_ylim([0, 120])\n",
    "ax2.legend(loc=\"upper right\")\n",
    "\n",
    "ax.set_title('Number of observations and Average value of Y for each value of X3')\n",
    "ax.grid(True)\n",
    "plt.show()"
   ]
  },
  {
   "cell_type": "code",
   "execution_count": 30,
   "id": "0825c607",
   "metadata": {},
   "outputs": [
    {
     "data": {
      "image/png": "[encoded data removed]",
      "text/plain": [
       "<Figure size 432x288 with 2 Axes>"
      ]
     },
     "metadata": {
      "needs_background": "light"
     },
     "output_type": "display_data"
    }
   ],
   "source": [
    "\n",
    "fig,ax = plt.subplots()\n",
    "\n",
    "ax.plot(df_main['Y'].groupby(df_main['X4']).mean(), marker='o', label = 'Average value of Y')\n",
    "ax.set_xlabel('Value of X4')\n",
    "ax.set_ylabel('Average value of Y')\n",
    "ax.set_xlim([0.5, 5.5])\n",
    "ax.set_ylim([0.0, 1.2])\n",
    "ax.legend(loc=\"upper left\")\n",
    "\n",
    "ax2 = ax.twinx() \n",
    "ax2.hist(df_main['X4'], df_main['X4'].count(), color = 'red', label = 'Number of observations')\n",
    "ax2.set_ylabel('Number of observations') \n",
    "ax2.set_ylim([0, 120])\n",
    "ax2.legend(loc=\"upper right\")\n",
    "\n",
    "ax.set_title('Number of observations and Average value of Y for each value of X4')\n",
    "ax.grid(True)\n",
    "plt.show()"
   ]
  },
  {
   "cell_type": "code",
   "execution_count": 31,
   "id": "50302610",
   "metadata": {},
   "outputs": [
    {
     "data": {
      "image/png": "[encoded data removed]",
      "text/plain": [
       "<Figure size 432x288 with 2 Axes>"
      ]
     },
     "metadata": {
      "needs_background": "light"
     },
     "output_type": "display_data"
    }
   ],
   "source": [
    "\n",
    "fig,ax = plt.subplots()\n",
    "\n",
    "ax.plot(df_main['Y'].groupby(df_main['X5']).mean(), marker='o', label = 'Average value of Y')\n",
    "ax.set_xlabel('Value of X5')\n",
    "ax.set_ylabel('Average value of Y')\n",
    "ax.set_xlim([0.5, 5.5])\n",
    "ax.set_ylim([0.0, 1.2])\n",
    "ax.legend(loc=\"upper left\")\n",
    "\n",
    "ax2 = ax.twinx() \n",
    "ax2.hist(df_main['X5'], df_main['X5'].count(), color = 'red', label = 'Number of observations')\n",
    "ax2.set_ylabel('Number of observations') \n",
    "ax2.set_ylim([0, 120])\n",
    "ax2.legend(loc=\"upper right\")\n",
    "\n",
    "ax.set_title('Number of observations and Average value of Y for each value of X5')\n",
    "ax.grid(True)\n",
    "plt.show()"
   ]
  },
  {
   "cell_type": "code",
   "execution_count": 32,
   "id": "99b2dd39",
   "metadata": {},
   "outputs": [
    {
     "data": {
      "image/png": "[encoded data removed]",
      "text/plain": [
       "<Figure size 432x288 with 2 Axes>"
      ]
     },
     "metadata": {
      "needs_background": "light"
     },
     "output_type": "display_data"
    }
   ],
   "source": [
    "\n",
    "fig,ax = plt.subplots()\n",
    "\n",
    "ax.plot(df_main['Y'].groupby(df_main['X6']).mean(), marker='o', label = 'Average value of Y')\n",
    "ax.set_xlabel('Value of X6')\n",
    "ax.set_ylabel('Average value of Y')\n",
    "ax.set_xlim([0.5, 5.5])\n",
    "ax.set_ylim([0.0, 1.2])\n",
    "ax.legend(loc=\"upper left\")\n",
    "\n",
    "ax2 = ax.twinx() \n",
    "ax2.hist(df_main['X6'], df_main['X6'].count(), color = 'red', label = 'Number of observations')\n",
    "ax2.set_ylabel('Number of observations') \n",
    "ax2.set_ylim([0, 120])\n",
    "ax2.legend(loc=\"upper right\")\n",
    "\n",
    "ax.set_title('Number of observations and Average value of Y for each value of X6')\n",
    "ax.grid(True)\n",
    "plt.show()"
   ]
  },
  {
   "cell_type": "markdown",
   "id": "6bc30e56",
   "metadata": {},
   "source": [
    "Just to verify, we'll check the average value of Y and corresponding number of observations for some values of X6."
   ]
  },
  {
   "cell_type": "code",
   "execution_count": 33,
   "id": "59e8fe01",
   "metadata": {},
   "outputs": [
    {
     "name": "stdout",
     "output_type": "stream",
     "text": [
      "Mean value of Y for X6 = 1: 1.00\n",
      "Number of observations for X6 = 1: 1\n",
      "\n",
      "Mean value of Y for X6 = 3: 0.30\n",
      "Number of observations for X6 = 3: 20\n",
      "\n",
      "Mean value of Y for X6 = 5: 0.61\n",
      "Number of observations for X6 = 5: 57\n",
      "\n"
     ]
    }
   ],
   "source": [
    "print(\"Mean value of Y for X6 = 1: %.2f\" % df_main['Y'].where(df_main['X6']==1).mean())\n",
    "print(\"Number of observations for X6 = 1: %.0f\\n\" % df_main['X6'][df_main['X6']==1].count())\n",
    "print(\"Mean value of Y for X6 = 3: %.2f\" % df_main['Y'].where(df_main['X6']==3).mean())\n",
    "print(\"Number of observations for X6 = 3: %.0f\\n\" % df_main['X6'][df_main['X6']==3].count())\n",
    "print(\"Mean value of Y for X6 = 5: %.2f\" % df_main['Y'].where(df_main['X6']==5).mean())\n",
    "print(\"Number of observations for X6 = 5: %.0f\\n\" % df_main['X6'][df_main['X6']==5].count())"
   ]
  },
  {
   "cell_type": "code",
   "execution_count": null,
   "id": "8b1941e5",
   "metadata": {},
   "outputs": [],
   "source": []
  },
  {
   "cell_type": "markdown",
   "id": "232bb334",
   "metadata": {},
   "source": [
    "##### Splitting the dataset into Train and Test data"
   ]
  },
  {
   "cell_type": "code",
   "execution_count": 34,
   "id": "9e21dd7f",
   "metadata": {},
   "outputs": [],
   "source": [
    "from sklearn.model_selection import train_test_split\n",
    "X_train, X_test, y_train, y_test = train_test_split(df_X, df_y, test_size = 0.2, random_state = 42)"
   ]
  },
  {
   "cell_type": "code",
   "execution_count": 35,
   "id": "73aa4bde",
   "metadata": {},
   "outputs": [
    {
     "name": "stdout",
     "output_type": "stream",
     "text": [
      "(100, 6)\n",
      "(26, 6)\n",
      "(100, 1)\n",
      "(26, 1)\n"
     ]
    }
   ],
   "source": [
    "print(X_train.shape)\n",
    "print(X_test.shape)\n",
    "print(y_train.shape)\n",
    "print(y_test.shape)"
   ]
  },
  {
   "cell_type": "markdown",
   "id": "b1cb3034",
   "metadata": {},
   "source": [
    "## Prediction Model"
   ]
  },
  {
   "cell_type": "markdown",
   "id": "d8d7791c",
   "metadata": {},
   "source": [
    "##### _1. Decision Tree Classifier_"
   ]
  },
  {
   "cell_type": "code",
   "execution_count": 36,
   "id": "207781ef",
   "metadata": {},
   "outputs": [],
   "source": [
    "\n",
    "from sklearn.tree import DecisionTreeClassifier\n",
    "\n",
    "# Create Decision Tree classifer object\n",
    "clf = DecisionTreeClassifier()\n",
    "\n",
    "# Train Decision Tree Classifer\n",
    "clf = clf.fit(X_train, y_train)\n",
    "\n",
    "#Predict the response for test dataset\n",
    "predicted = clf.predict(X_test)"
   ]
  },
  {
   "cell_type": "code",
   "execution_count": 37,
   "id": "c6e3be0d",
   "metadata": {},
   "outputs": [
    {
     "name": "stdout",
     "output_type": "stream",
     "text": [
      "Accuracy: 57.69%\n"
     ]
    }
   ],
   "source": [
    "# Checking Model Accuracy\n",
    "import sklearn.metrics as metrics\n",
    "print(\"Accuracy: %.2f%%\" % (metrics.accuracy_score(y_test, predicted) * 100))"
   ]
  },
  {
   "cell_type": "code",
   "execution_count": 38,
   "id": "e963df67",
   "metadata": {},
   "outputs": [
    {
     "name": "stdout",
     "output_type": "stream",
     "text": [
      "AUC: 59.70%\n"
     ]
    }
   ],
   "source": [
    "### Checking the model's performance by measuring AUC (Area Under the ROC Curve)\n",
    "from sklearn.metrics import roc_auc_score\n",
    "# calculate AUC\n",
    "auc = roc_auc_score(y_test, predicted)\n",
    "print('AUC: %.2f%%' % (auc * 100))"
   ]
  },
  {
   "cell_type": "code",
   "execution_count": null,
   "id": "48755ee1",
   "metadata": {},
   "outputs": [],
   "source": []
  },
  {
   "cell_type": "markdown",
   "id": "0353154c",
   "metadata": {},
   "source": [
    "##### _2. Random Forest_"
   ]
  },
  {
   "cell_type": "code",
   "execution_count": 39,
   "id": "86b4064d",
   "metadata": {},
   "outputs": [
    {
     "name": "stderr",
     "output_type": "stream",
     "text": [
      "C:\\Users\\nahas\\AppData\\Local\\Temp\\ipykernel_36188\\3648969881.py:5: DataConversionWarning: A column-vector y was passed when a 1d array was expected. Please change the shape of y to (n_samples,), for example using ravel().\n",
      "  rf.fit(X_train, y_train)\n"
     ]
    },
    {
     "name": "stdout",
     "output_type": "stream",
     "text": [
      "Accuracy: 57.69%\n",
      "AUC: 60.91%\n",
      "F1 Score: 62.07%\n"
     ]
    }
   ],
   "source": [
    "\n",
    "from sklearn.ensemble import RandomForestClassifier\n",
    "from sklearn.metrics import accuracy_score, confusion_matrix, precision_score, recall_score, ConfusionMatrixDisplay\n",
    "\n",
    "rf = RandomForestClassifier(n_estimators=1000)\n",
    "rf.fit(X_train, y_train)\n",
    "\n",
    "prediction_rf = rf.predict(X_test)\n",
    "accuracy = accuracy_score(y_test, prediction_rf)\n",
    "print(\"Accuracy: %.2f%%\" % (accuracy * 100))\n",
    "\n",
    "# calculate AUC\n",
    "auc = roc_auc_score(y_test, prediction_rf)\n",
    "print('AUC: %.2f%%' % (auc * 100))\n",
    "\n",
    "# Checking F1 Score\n",
    "from sklearn.metrics import f1_score\n",
    "print('F1 Score: %.2f%%' % (f1_score(y_test, prediction_rf)*100))\n"
   ]
  },
  {
   "cell_type": "code",
   "execution_count": null,
   "id": "7316d36b",
   "metadata": {},
   "outputs": [],
   "source": []
  },
  {
   "cell_type": "markdown",
   "id": "292ffcec",
   "metadata": {},
   "source": [
    "##### _3. XGBoost_"
   ]
  },
  {
   "cell_type": "code",
   "execution_count": 40,
   "id": "87bb80b2",
   "metadata": {},
   "outputs": [],
   "source": [
    "import xgboost as xgb\n",
    "from xgboost import XGBClassifier"
   ]
  },
  {
   "cell_type": "markdown",
   "id": "47b780c2",
   "metadata": {},
   "source": [
    "##### Using the Scikit-Learn Estimator Interface for XGBoost"
   ]
  },
  {
   "cell_type": "code",
   "execution_count": 41,
   "id": "ea2e17c6",
   "metadata": {},
   "outputs": [],
   "source": [
    "# Use \"hist\" for constructing the trees, with early stopping enabled.\n",
    "#clf = xgb.XGBClassifier(tree_method=\"hist\", early_stopping_rounds=2)\n",
    "\n",
    "# Fit the model, test sets are used for early stopping.\n",
    "#clf.fit(X_train, y_train, eval_set=[(X_test, y_test)])\n",
    "\n",
    "# Save model into JSON format.\n",
    "#clf.save_model(\"clf.json\")"
   ]
  },
  {
   "cell_type": "code",
   "execution_count": 42,
   "id": "28c2fdea",
   "metadata": {},
   "outputs": [
    {
     "data": {
      "text/plain": [
       "XGBClassifier(base_score=None, booster=None, callbacks=None,\n",
       "              colsample_bylevel=None, colsample_bynode=None,\n",
       "              colsample_bytree=None, early_stopping_rounds=None,\n",
       "              enable_categorical=False, eval_metric=None, feature_types=None,\n",
       "              gamma=None, gpu_id=None, grow_policy=None, importance_type=None,\n",
       "              interaction_constraints=None, learning_rate=None, max_bin=None,\n",
       "              max_cat_threshold=None, max_cat_to_onehot=None,\n",
       "              max_delta_step=None, max_depth=None, max_leaves=None,\n",
       "              min_child_weight=None, missing=nan, monotone_constraints=None,\n",
       "              n_estimators=100, n_jobs=None, num_parallel_tree=None,\n",
       "              predictor=None, random_state=None, ...)"
      ]
     },
     "execution_count": 42,
     "metadata": {},
     "output_type": "execute_result"
    }
   ],
   "source": [
    "# fit model no training data\n",
    "model = XGBClassifier()\n",
    "model.fit(X_train, y_train)"
   ]
  },
  {
   "cell_type": "code",
   "execution_count": 43,
   "id": "db124fe3",
   "metadata": {},
   "outputs": [
    {
     "name": "stdout",
     "output_type": "stream",
     "text": [
      "XGBClassifier(base_score=None, booster=None, callbacks=None,\n",
      "              colsample_bylevel=None, colsample_bynode=None,\n",
      "              colsample_bytree=None, early_stopping_rounds=None,\n",
      "              enable_categorical=False, eval_metric=None, feature_types=None,\n",
      "              gamma=None, gpu_id=None, grow_policy=None, importance_type=None,\n",
      "              interaction_constraints=None, learning_rate=None, max_bin=None,\n",
      "              max_cat_threshold=None, max_cat_to_onehot=None,\n",
      "              max_delta_step=None, max_depth=None, max_leaves=None,\n",
      "              min_child_weight=None, missing=nan, monotone_constraints=None,\n",
      "              n_estimators=100, n_jobs=None, num_parallel_tree=None,\n",
      "              predictor=None, random_state=None, ...)\n"
     ]
    }
   ],
   "source": [
    "print(model)   # to see the parameters used in the model"
   ]
  },
  {
   "cell_type": "code",
   "execution_count": 44,
   "id": "e41de6ec",
   "metadata": {},
   "outputs": [
    {
     "name": "stdout",
     "output_type": "stream",
     "text": [
      "[1 1 0 0 0 1 0 1 1 0 0 0 1 1 1 0 1 0 1 1 1 0 1 0 0 1]\n",
      "[1, 1, 0, 0, 0, 1, 0, 1, 1, 0, 0, 0, 1, 1, 1, 0, 1, 0, 1, 1, 1, 0, 1, 0, 0, 1]\n"
     ]
    }
   ],
   "source": [
    "# make predictions for test data\n",
    "y_pred = model.predict(X_test)\n",
    "predictions = [round(value) for value in y_pred]\n",
    "print(y_pred)\n",
    "print(predictions)"
   ]
  },
  {
   "cell_type": "code",
   "execution_count": 45,
   "id": "5d140025",
   "metadata": {},
   "outputs": [
    {
     "name": "stdout",
     "output_type": "stream",
     "text": [
      "Accuracy: 65.38%\n"
     ]
    }
   ],
   "source": [
    "# evaluate predictions\n",
    "accuracy = accuracy_score(y_test, predictions)\n",
    "print(\"Accuracy: %.2f%%\" % (accuracy * 100.0))"
   ]
  },
  {
   "cell_type": "markdown",
   "id": "427e5930",
   "metadata": {},
   "source": [
    "We can see that the best prediction results are achieved by XGBoost. "
   ]
  },
  {
   "cell_type": "code",
   "execution_count": null,
   "id": "a335a99b",
   "metadata": {},
   "outputs": [],
   "source": []
  },
  {
   "cell_type": "markdown",
   "id": "91c9d9be",
   "metadata": {},
   "source": [
    "### Variable Importance"
   ]
  },
  {
   "cell_type": "code",
   "execution_count": 46,
   "id": "47a29ba7",
   "metadata": {},
   "outputs": [],
   "source": [
    "y_train_list = y_train['Y'].tolist()"
   ]
  },
  {
   "cell_type": "code",
   "execution_count": 47,
   "id": "1159ae02",
   "metadata": {},
   "outputs": [
    {
     "data": {
      "text/plain": [
       "array([0.17767444, 0.18660238, 0.1833113 , 0.14996584, 0.16340423,\n",
       "       0.13904182])"
      ]
     },
     "execution_count": 47,
     "metadata": {},
     "output_type": "execute_result"
    }
   ],
   "source": [
    "rf = RandomForestClassifier(n_estimators=1000)\n",
    "rf.fit(X_train, y_train_list)\n",
    "\n",
    "rf.feature_importances_"
   ]
  },
  {
   "cell_type": "code",
   "execution_count": 48,
   "id": "dae5eabb",
   "metadata": {
    "scrolled": true
   },
   "outputs": [
    {
     "data": {
      "text/plain": [
       "<BarContainer object of 6 artists>"
      ]
     },
     "execution_count": 48,
     "metadata": {},
     "output_type": "execute_result"
    },
    {
     "data": {
      "image/png": "[encoded data removed]",
      "text/plain": [
       "<Figure size 432x288 with 1 Axes>"
      ]
     },
     "metadata": {
      "needs_background": "light"
     },
     "output_type": "display_data"
    }
   ],
   "source": [
    "plt.bar(df_X.columns, rf.feature_importances_)"
   ]
  },
  {
   "cell_type": "code",
   "execution_count": 49,
   "id": "919445cd",
   "metadata": {},
   "outputs": [
    {
     "data": {
      "text/plain": [
       "<BarContainer object of 6 artists>"
      ]
     },
     "execution_count": 49,
     "metadata": {},
     "output_type": "execute_result"
    },
    {
     "data": {
      "image/png": "[encoded data removed]",
      "text/plain": [
       "<Figure size 432x288 with 1 Axes>"
      ]
     },
     "metadata": {
      "needs_background": "light"
     },
     "output_type": "display_data"
    }
   ],
   "source": [
    "plt.bar(X_train.columns, rf.feature_importances_)"
   ]
  },
  {
   "cell_type": "markdown",
   "id": "aa717d16",
   "metadata": {},
   "source": [
    "This shows that all the X variables are important for predicting the value of Y."
   ]
  },
  {
   "cell_type": "code",
   "execution_count": null,
   "id": "85029c27",
   "metadata": {},
   "outputs": [],
   "source": []
  },
  {
   "cell_type": "markdown",
   "id": "0b78886a",
   "metadata": {},
   "source": [
    "### _Predicted vs Observed_"
   ]
  },
  {
   "cell_type": "code",
   "execution_count": 50,
   "id": "9a124950",
   "metadata": {},
   "outputs": [
    {
     "name": "stdout",
     "output_type": "stream",
     "text": [
      "[1 1 0 1 0 1 1 1 1 1 0 0 1 1 1 0 1 0 1 1 1 0 1 0 1 1]\n",
      "     Y\n",
      "73   0\n",
      "19   0\n",
      "116  1\n",
      "67   0\n",
      "94   0\n",
      "77   1\n",
      "31   0\n",
      "53   1\n",
      "117  1\n",
      "44   1\n",
      "4    0\n",
      "104  0\n",
      "36   1\n",
      "97   1\n",
      "78   0\n",
      "18   0\n",
      "91   1\n",
      "10   0\n",
      "55   1\n",
      "11   0\n",
      "45   1\n",
      "26   1\n",
      "76   0\n",
      "0    0\n",
      "56   0\n",
      "40   0\n"
     ]
    }
   ],
   "source": [
    "# First, we'll check the dataframes\n",
    "\n",
    "print(prediction_rf)\n",
    "print(y_test)"
   ]
  },
  {
   "cell_type": "code",
   "execution_count": 51,
   "id": "24187eed",
   "metadata": {},
   "outputs": [],
   "source": [
    "#observed = y_test['Y'].tolist()   # Changing the dataframe to list\n",
    "\n",
    "predicted = pd.DataFrame(prediction_rf, columns=['Y'])   # Changing the predicted list into a dataframe"
   ]
  },
  {
   "cell_type": "code",
   "execution_count": 52,
   "id": "a7139be5",
   "metadata": {},
   "outputs": [
    {
     "name": "stdout",
     "output_type": "stream",
     "text": [
      "    Y\n",
      "0   1\n",
      "1   1\n",
      "2   0\n",
      "3   1\n",
      "4   0\n",
      "5   1\n",
      "6   1\n",
      "7   1\n",
      "8   1\n",
      "9   1\n",
      "10  0\n",
      "11  0\n",
      "12  1\n",
      "13  1\n",
      "14  1\n",
      "15  0\n",
      "16  1\n",
      "17  0\n",
      "18  1\n",
      "19  1\n",
      "20  1\n",
      "21  0\n",
      "22  1\n",
      "23  0\n",
      "24  1\n",
      "25  1\n",
      "     Y\n",
      "73   0\n",
      "19   0\n",
      "116  1\n",
      "67   0\n",
      "94   0\n",
      "77   1\n",
      "31   0\n",
      "53   1\n",
      "117  1\n",
      "44   1\n",
      "4    0\n",
      "104  0\n",
      "36   1\n",
      "97   1\n",
      "78   0\n",
      "18   0\n",
      "91   1\n",
      "10   0\n",
      "55   1\n",
      "11   0\n",
      "45   1\n",
      "26   1\n",
      "76   0\n",
      "0    0\n",
      "56   0\n",
      "40   0\n"
     ]
    }
   ],
   "source": [
    "print(predicted)\n",
    "print(y_test)"
   ]
  },
  {
   "cell_type": "code",
   "execution_count": 53,
   "id": "856ec443",
   "metadata": {},
   "outputs": [
    {
     "data": {
      "text/html": [
       "<div>\n",
       "<style scoped>\n",
       "    .dataframe tbody tr th:only-of-type {\n",
       "        vertical-align: middle;\n",
       "    }\n",
       "\n",
       "    .dataframe tbody tr th {\n",
       "        vertical-align: top;\n",
       "    }\n",
       "\n",
       "    .dataframe thead th {\n",
       "        text-align: right;\n",
       "    }\n",
       "</style>\n",
       "<table border=\"1\" class=\"dataframe\">\n",
       "  <thead>\n",
       "    <tr style=\"text-align: right;\">\n",
       "      <th></th>\n",
       "      <th>X1</th>\n",
       "      <th>X2</th>\n",
       "      <th>X3</th>\n",
       "      <th>X4</th>\n",
       "      <th>X5</th>\n",
       "      <th>X6</th>\n",
       "    </tr>\n",
       "  </thead>\n",
       "  <tbody>\n",
       "    <tr>\n",
       "      <th>73</th>\n",
       "      <td>5</td>\n",
       "      <td>2</td>\n",
       "      <td>3</td>\n",
       "      <td>3</td>\n",
       "      <td>2</td>\n",
       "      <td>5</td>\n",
       "    </tr>\n",
       "    <tr>\n",
       "      <th>19</th>\n",
       "      <td>4</td>\n",
       "      <td>2</td>\n",
       "      <td>4</td>\n",
       "      <td>4</td>\n",
       "      <td>4</td>\n",
       "      <td>4</td>\n",
       "    </tr>\n",
       "    <tr>\n",
       "      <th>116</th>\n",
       "      <td>3</td>\n",
       "      <td>4</td>\n",
       "      <td>4</td>\n",
       "      <td>5</td>\n",
       "      <td>1</td>\n",
       "      <td>3</td>\n",
       "    </tr>\n",
       "    <tr>\n",
       "      <th>67</th>\n",
       "      <td>4</td>\n",
       "      <td>1</td>\n",
       "      <td>1</td>\n",
       "      <td>3</td>\n",
       "      <td>4</td>\n",
       "      <td>4</td>\n",
       "    </tr>\n",
       "    <tr>\n",
       "      <th>94</th>\n",
       "      <td>3</td>\n",
       "      <td>1</td>\n",
       "      <td>3</td>\n",
       "      <td>2</td>\n",
       "      <td>1</td>\n",
       "      <td>2</td>\n",
       "    </tr>\n",
       "    <tr>\n",
       "      <th>77</th>\n",
       "      <td>5</td>\n",
       "      <td>2</td>\n",
       "      <td>3</td>\n",
       "      <td>5</td>\n",
       "      <td>5</td>\n",
       "      <td>5</td>\n",
       "    </tr>\n",
       "    <tr>\n",
       "      <th>31</th>\n",
       "      <td>4</td>\n",
       "      <td>1</td>\n",
       "      <td>3</td>\n",
       "      <td>4</td>\n",
       "      <td>4</td>\n",
       "      <td>5</td>\n",
       "    </tr>\n",
       "    <tr>\n",
       "      <th>53</th>\n",
       "      <td>5</td>\n",
       "      <td>2</td>\n",
       "      <td>4</td>\n",
       "      <td>3</td>\n",
       "      <td>4</td>\n",
       "      <td>5</td>\n",
       "    </tr>\n",
       "    <tr>\n",
       "      <th>117</th>\n",
       "      <td>5</td>\n",
       "      <td>1</td>\n",
       "      <td>5</td>\n",
       "      <td>5</td>\n",
       "      <td>5</td>\n",
       "      <td>5</td>\n",
       "    </tr>\n",
       "    <tr>\n",
       "      <th>44</th>\n",
       "      <td>3</td>\n",
       "      <td>1</td>\n",
       "      <td>2</td>\n",
       "      <td>4</td>\n",
       "      <td>3</td>\n",
       "      <td>5</td>\n",
       "    </tr>\n",
       "    <tr>\n",
       "      <th>4</th>\n",
       "      <td>5</td>\n",
       "      <td>4</td>\n",
       "      <td>3</td>\n",
       "      <td>3</td>\n",
       "      <td>3</td>\n",
       "      <td>5</td>\n",
       "    </tr>\n",
       "    <tr>\n",
       "      <th>104</th>\n",
       "      <td>4</td>\n",
       "      <td>1</td>\n",
       "      <td>3</td>\n",
       "      <td>5</td>\n",
       "      <td>3</td>\n",
       "      <td>5</td>\n",
       "    </tr>\n",
       "    <tr>\n",
       "      <th>36</th>\n",
       "      <td>5</td>\n",
       "      <td>3</td>\n",
       "      <td>4</td>\n",
       "      <td>3</td>\n",
       "      <td>4</td>\n",
       "      <td>5</td>\n",
       "    </tr>\n",
       "    <tr>\n",
       "      <th>97</th>\n",
       "      <td>5</td>\n",
       "      <td>4</td>\n",
       "      <td>5</td>\n",
       "      <td>4</td>\n",
       "      <td>5</td>\n",
       "      <td>4</td>\n",
       "    </tr>\n",
       "    <tr>\n",
       "      <th>78</th>\n",
       "      <td>5</td>\n",
       "      <td>3</td>\n",
       "      <td>3</td>\n",
       "      <td>3</td>\n",
       "      <td>2</td>\n",
       "      <td>5</td>\n",
       "    </tr>\n",
       "    <tr>\n",
       "      <th>18</th>\n",
       "      <td>5</td>\n",
       "      <td>1</td>\n",
       "      <td>2</td>\n",
       "      <td>4</td>\n",
       "      <td>4</td>\n",
       "      <td>5</td>\n",
       "    </tr>\n",
       "    <tr>\n",
       "      <th>91</th>\n",
       "      <td>5</td>\n",
       "      <td>1</td>\n",
       "      <td>3</td>\n",
       "      <td>4</td>\n",
       "      <td>5</td>\n",
       "      <td>5</td>\n",
       "    </tr>\n",
       "    <tr>\n",
       "      <th>10</th>\n",
       "      <td>3</td>\n",
       "      <td>2</td>\n",
       "      <td>3</td>\n",
       "      <td>3</td>\n",
       "      <td>2</td>\n",
       "      <td>3</td>\n",
       "    </tr>\n",
       "    <tr>\n",
       "      <th>55</th>\n",
       "      <td>4</td>\n",
       "      <td>3</td>\n",
       "      <td>2</td>\n",
       "      <td>4</td>\n",
       "      <td>3</td>\n",
       "      <td>4</td>\n",
       "    </tr>\n",
       "    <tr>\n",
       "      <th>11</th>\n",
       "      <td>4</td>\n",
       "      <td>4</td>\n",
       "      <td>3</td>\n",
       "      <td>4</td>\n",
       "      <td>4</td>\n",
       "      <td>4</td>\n",
       "    </tr>\n",
       "    <tr>\n",
       "      <th>45</th>\n",
       "      <td>5</td>\n",
       "      <td>3</td>\n",
       "      <td>4</td>\n",
       "      <td>4</td>\n",
       "      <td>4</td>\n",
       "      <td>5</td>\n",
       "    </tr>\n",
       "    <tr>\n",
       "      <th>26</th>\n",
       "      <td>3</td>\n",
       "      <td>3</td>\n",
       "      <td>3</td>\n",
       "      <td>5</td>\n",
       "      <td>5</td>\n",
       "      <td>5</td>\n",
       "    </tr>\n",
       "    <tr>\n",
       "      <th>76</th>\n",
       "      <td>4</td>\n",
       "      <td>3</td>\n",
       "      <td>2</td>\n",
       "      <td>3</td>\n",
       "      <td>2</td>\n",
       "      <td>4</td>\n",
       "    </tr>\n",
       "    <tr>\n",
       "      <th>0</th>\n",
       "      <td>3</td>\n",
       "      <td>3</td>\n",
       "      <td>3</td>\n",
       "      <td>4</td>\n",
       "      <td>2</td>\n",
       "      <td>4</td>\n",
       "    </tr>\n",
       "    <tr>\n",
       "      <th>56</th>\n",
       "      <td>5</td>\n",
       "      <td>1</td>\n",
       "      <td>1</td>\n",
       "      <td>5</td>\n",
       "      <td>3</td>\n",
       "      <td>5</td>\n",
       "    </tr>\n",
       "    <tr>\n",
       "      <th>40</th>\n",
       "      <td>5</td>\n",
       "      <td>2</td>\n",
       "      <td>3</td>\n",
       "      <td>3</td>\n",
       "      <td>3</td>\n",
       "      <td>3</td>\n",
       "    </tr>\n",
       "  </tbody>\n",
       "</table>\n",
       "</div>"
      ],
      "text/plain": [
       "     X1  X2  X3  X4  X5  X6\n",
       "73    5   2   3   3   2   5\n",
       "19    4   2   4   4   4   4\n",
       "116   3   4   4   5   1   3\n",
       "67    4   1   1   3   4   4\n",
       "94    3   1   3   2   1   2\n",
       "77    5   2   3   5   5   5\n",
       "31    4   1   3   4   4   5\n",
       "53    5   2   4   3   4   5\n",
       "117   5   1   5   5   5   5\n",
       "44    3   1   2   4   3   5\n",
       "4     5   4   3   3   3   5\n",
       "104   4   1   3   5   3   5\n",
       "36    5   3   4   3   4   5\n",
       "97    5   4   5   4   5   4\n",
       "78    5   3   3   3   2   5\n",
       "18    5   1   2   4   4   5\n",
       "91    5   1   3   4   5   5\n",
       "10    3   2   3   3   2   3\n",
       "55    4   3   2   4   3   4\n",
       "11    4   4   3   4   4   4\n",
       "45    5   3   4   4   4   5\n",
       "26    3   3   3   5   5   5\n",
       "76    4   3   2   3   2   4\n",
       "0     3   3   3   4   2   4\n",
       "56    5   1   1   5   3   5\n",
       "40    5   2   3   3   3   3"
      ]
     },
     "execution_count": 53,
     "metadata": {},
     "output_type": "execute_result"
    }
   ],
   "source": [
    "# printing the X_test dataframe\n",
    "X_test"
   ]
  },
  {
   "cell_type": "markdown",
   "id": "80355d90",
   "metadata": {},
   "source": [
    "###### Now, we'll plot the predicted and observed Y values against each X variable."
   ]
  },
  {
   "cell_type": "markdown",
   "id": "0711e0f9",
   "metadata": {},
   "source": [
    "_Predicted vs Observed_ Y against __X1__"
   ]
  },
  {
   "cell_type": "code",
   "execution_count": 54,
   "id": "2a7470bf",
   "metadata": {},
   "outputs": [
    {
     "data": {
      "image/png": "[encoded data removed]",
      "text/plain": [
       "<Figure size 432x288 with 2 Axes>"
      ]
     },
     "metadata": {
      "needs_background": "light"
     },
     "output_type": "display_data"
    }
   ],
   "source": [
    "\n",
    "fig,ax = plt.subplots()\n",
    "\n",
    "ax.plot(y_test['Y'].groupby(X_test['X1']).mean(), marker='o', label = 'Observed Y')\n",
    "ax.plot(predicted['Y'].groupby(X_test['X1']).mean(), marker='o', label = 'Predicted Y')\n",
    "ax.set_xlabel('Value of X1')\n",
    "ax.set_ylabel('Average value of Y')\n",
    "ax.set_xlim([0.5, 5.5])\n",
    "ax.set_ylim([0.0, 1.2])\n",
    "ax.legend(loc=\"upper left\")\n",
    "\n",
    "ax2 = ax.twinx() \n",
    "ax2.hist(X_test['X1'], X_test['X1'].count(), color = 'red', label = 'Number of X1 observations')\n",
    "ax2.set_ylabel('Number of X1 observations') \n",
    "ax2.set_ylim([0, 40])\n",
    "ax2.legend(loc=\"upper right\")\n",
    "\n",
    "ax.set_title('Observed vs Predicted Y for different values of X1')\n",
    "ax.grid(True)\n",
    "plt.show()"
   ]
  },
  {
   "cell_type": "markdown",
   "id": "fc564667",
   "metadata": {},
   "source": [
    "_Predicted vs Observed_ Y against __X2__"
   ]
  },
  {
   "cell_type": "code",
   "execution_count": 55,
   "id": "4374a34d",
   "metadata": {},
   "outputs": [
    {
     "data": {
      "image/png": "[encoded data removed]",
      "text/plain": [
       "<Figure size 432x288 with 2 Axes>"
      ]
     },
     "metadata": {
      "needs_background": "light"
     },
     "output_type": "display_data"
    }
   ],
   "source": [
    "\n",
    "fig,ax = plt.subplots()\n",
    "\n",
    "ax.plot(y_test['Y'].groupby(X_test['X2']).mean(), marker='o', label = 'Observed Y')\n",
    "ax.plot(predicted['Y'].groupby(X_test['X2']).mean(), marker='o', label = 'Predicted Y')\n",
    "ax.set_xlabel('Value of X2')\n",
    "ax.set_ylabel('Average value of Y')\n",
    "ax.set_xlim([0.5, 5.5])\n",
    "ax.set_ylim([0.0, 1.2])\n",
    "ax.legend(loc=\"upper left\")\n",
    "\n",
    "ax2 = ax.twinx() \n",
    "ax2.hist(X_test['X2'], X_test['X2'].count(), color = 'red', label = 'Number of X2 observations')\n",
    "ax2.set_ylabel('Number of X2 observations') \n",
    "ax2.set_ylim([0, 40])\n",
    "ax2.legend(loc=\"upper right\")\n",
    "\n",
    "ax.set_title('Observed vs Predicted Y for different values of X2')\n",
    "ax.grid(True)\n",
    "plt.show()"
   ]
  },
  {
   "cell_type": "markdown",
   "id": "11fa3ecb",
   "metadata": {},
   "source": [
    "_Predicted vs Observed_ Y against __X3__"
   ]
  },
  {
   "cell_type": "code",
   "execution_count": 56,
   "id": "cf1342af",
   "metadata": {},
   "outputs": [
    {
     "data": {
      "image/png": "[encoded data removed]",
      "text/plain": [
       "<Figure size 432x288 with 2 Axes>"
      ]
     },
     "metadata": {
      "needs_background": "light"
     },
     "output_type": "display_data"
    }
   ],
   "source": [
    "\n",
    "fig,ax = plt.subplots()\n",
    "\n",
    "ax.plot(y_test['Y'].groupby(X_test['X3']).mean(), marker='o', label = 'Observed Y')\n",
    "ax.plot(predicted['Y'].groupby(X_test['X3']).mean(), marker='o', label = 'Predicted Y')\n",
    "ax.set_xlabel('Value of X3')\n",
    "ax.set_ylabel('Average value of Y')\n",
    "ax.set_xlim([0.5, 5.5])\n",
    "ax.set_ylim([0.0, 1.2])\n",
    "ax.legend(loc=\"upper left\")\n",
    "\n",
    "ax2 = ax.twinx() \n",
    "ax2.hist(X_test['X3'], X_test['X3'].count(), color = 'red', label = 'Number of X3 observations')\n",
    "ax2.set_ylabel('Number of X3 observations') \n",
    "ax2.set_ylim([0, 40])\n",
    "ax2.legend(loc=\"upper right\")\n",
    "\n",
    "ax.set_title('Observed vs Predicted Y for different values of X3')\n",
    "ax.grid(True)\n",
    "plt.show()"
   ]
  },
  {
   "cell_type": "markdown",
   "id": "1b4e3eeb",
   "metadata": {},
   "source": [
    "_Predicted vs Observed_ Y against __X4__"
   ]
  },
  {
   "cell_type": "code",
   "execution_count": 57,
   "id": "f30ea12e",
   "metadata": {},
   "outputs": [
    {
     "data": {
      "image/png": "[encoded data removed]",
      "text/plain": [
       "<Figure size 432x288 with 2 Axes>"
      ]
     },
     "metadata": {
      "needs_background": "light"
     },
     "output_type": "display_data"
    }
   ],
   "source": [
    "\n",
    "fig,ax = plt.subplots()\n",
    "\n",
    "ax.plot(y_test['Y'].groupby(X_test['X4']).mean(), marker='o', label = 'Observed Y')\n",
    "ax.plot(predicted['Y'].groupby(X_test['X4']).mean(), marker='o', label = 'Predicted Y')\n",
    "ax.set_xlabel('Value of X4')\n",
    "ax.set_ylabel('Average value of Y')\n",
    "ax.set_xlim([0.5, 5.5])\n",
    "ax.set_ylim([0.0, 1.2])\n",
    "ax.legend(loc=\"upper left\")\n",
    "\n",
    "ax2 = ax.twinx() \n",
    "ax2.hist(X_test['X4'], X_test['X4'].count(), color = 'red', label = 'Number of X4 observations')\n",
    "ax2.set_ylabel('Number of X4 observations') \n",
    "ax2.set_ylim([0, 40])\n",
    "ax2.legend(loc=\"upper right\")\n",
    "\n",
    "ax.set_title('Observed vs Predicted Y for different values of X4')\n",
    "ax.grid(True)\n",
    "plt.show()"
   ]
  },
  {
   "cell_type": "markdown",
   "id": "50712a7b",
   "metadata": {},
   "source": [
    "_Predicted vs Observed_ Y against __X5__"
   ]
  },
  {
   "cell_type": "code",
   "execution_count": 58,
   "id": "cf317c99",
   "metadata": {},
   "outputs": [
    {
     "data": {
      "image/png": "[encoded data removed]",
      "text/plain": [
       "<Figure size 432x288 with 2 Axes>"
      ]
     },
     "metadata": {
      "needs_background": "light"
     },
     "output_type": "display_data"
    }
   ],
   "source": [
    "\n",
    "fig,ax = plt.subplots()\n",
    "\n",
    "ax.plot(y_test['Y'].groupby(X_test['X5']).mean(), marker='o', label = 'Observed Y')\n",
    "ax.plot(predicted['Y'].groupby(X_test['X5']).mean(), marker='o', label = 'Predicted Y')\n",
    "ax.set_xlabel('Value of X5')\n",
    "ax.set_ylabel('Average value of Y')\n",
    "ax.set_xlim([0.5, 5.5])\n",
    "ax.set_ylim([0.0, 1.2])\n",
    "ax.legend(loc=\"upper left\")\n",
    "\n",
    "ax2 = ax.twinx() \n",
    "ax2.hist(X_test['X5'], X_test['X5'].count(), color = 'red', label = 'Number of X5 observations')\n",
    "ax2.set_ylabel('Number of X5 observations') \n",
    "ax2.set_ylim([0, 40])\n",
    "ax2.legend(loc=\"upper right\")\n",
    "\n",
    "ax.set_title('Observed vs Predicted Y for different values of X5')\n",
    "ax.grid(True)\n",
    "plt.show()"
   ]
  },
  {
   "cell_type": "markdown",
   "id": "0f92ddff",
   "metadata": {},
   "source": [
    "_Predicted vs Observed_ Y against __X6__"
   ]
  },
  {
   "cell_type": "code",
   "execution_count": 59,
   "id": "c0cb2541",
   "metadata": {},
   "outputs": [
    {
     "data": {
      "image/png": "[encoded data removed]",
      "text/plain": [
       "<Figure size 432x288 with 2 Axes>"
      ]
     },
     "metadata": {
      "needs_background": "light"
     },
     "output_type": "display_data"
    }
   ],
   "source": [
    "\n",
    "fig,ax = plt.subplots()\n",
    "\n",
    "ax.plot(y_test['Y'].groupby(X_test['X6']).mean(), marker='o', label = 'Observed Y')\n",
    "ax.plot(predicted['Y'].groupby(X_test['X6']).mean(), marker='o', label = 'Predicted Y')\n",
    "ax.set_xlabel('Value of X6')\n",
    "ax.set_ylabel('Average value of Y')\n",
    "ax.set_xlim([0.5, 5.5])\n",
    "ax.set_ylim([0.0, 1.2])\n",
    "ax.legend(loc=\"upper left\")\n",
    "\n",
    "ax2 = ax.twinx() \n",
    "ax2.hist(X_test['X6'], X_test['X6'].count(), color = 'red', label = 'Number of X6 observations')\n",
    "ax2.set_ylabel('Number of X6 observations') \n",
    "ax2.set_ylim([0, 40])\n",
    "ax2.legend(loc=\"upper right\")\n",
    "\n",
    "ax.set_title('Observed vs Predicted Y for different values of X6')\n",
    "ax.grid(True)\n",
    "plt.show()"
   ]
  },
  {
   "cell_type": "code",
   "execution_count": null,
   "id": "e6f03dde",
   "metadata": {},
   "outputs": [],
   "source": []
  },
  {
   "cell_type": "markdown",
   "id": "7bc356d3",
   "metadata": {},
   "source": [
    "##### Classification Report"
   ]
  },
  {
   "cell_type": "code",
   "execution_count": 60,
   "id": "909ce357",
   "metadata": {},
   "outputs": [
    {
     "name": "stdout",
     "output_type": "stream",
     "text": [
      "              precision    recall  f1-score   support\n",
      "\n",
      "           0       0.75      0.40      0.52        15\n",
      "           1       0.50      0.82      0.62        11\n",
      "\n",
      "    accuracy                           0.58        26\n",
      "   macro avg       0.62      0.61      0.57        26\n",
      "weighted avg       0.64      0.58      0.56        26\n",
      "\n"
     ]
    }
   ],
   "source": [
    "from sklearn.metrics import classification_report\n",
    "print(classification_report(y_test, predicted))"
   ]
  },
  {
   "cell_type": "code",
   "execution_count": null,
   "id": "6db00e9b",
   "metadata": {},
   "outputs": [],
   "source": []
  },
  {
   "cell_type": "markdown",
   "id": "e006a6fd",
   "metadata": {},
   "source": [
    "##### Confusion matrix"
   ]
  },
  {
   "cell_type": "code",
   "execution_count": 61,
   "id": "c3b86d1f",
   "metadata": {},
   "outputs": [],
   "source": [
    "from sklearn import metrics\n",
    "confusion_matrix = metrics.confusion_matrix(y_test, predicted)"
   ]
  },
  {
   "cell_type": "code",
   "execution_count": 62,
   "id": "1abbb139",
   "metadata": {},
   "outputs": [],
   "source": [
    "cm_display = metrics.ConfusionMatrixDisplay(confusion_matrix = confusion_matrix, display_labels = [False, True])"
   ]
  },
  {
   "cell_type": "code",
   "execution_count": 63,
   "id": "cab3c962",
   "metadata": {},
   "outputs": [
    {
     "data": {
      "image/png": "[encoded data removed]",
      "text/plain": [
       "<Figure size 432x288 with 2 Axes>"
      ]
     },
     "metadata": {
      "needs_background": "light"
     },
     "output_type": "display_data"
    }
   ],
   "source": [
    "import matplotlib.pyplot as plt\n",
    "cm_display.plot()\n",
    "plt.show()"
   ]
  },
  {
   "cell_type": "code",
   "execution_count": null,
   "id": "3a0a146d",
   "metadata": {},
   "outputs": [],
   "source": []
  },
  {
   "cell_type": "code",
   "execution_count": null,
   "id": "ffae1860",
   "metadata": {},
   "outputs": [],
   "source": []
  },
  {
   "cell_type": "markdown",
   "id": "390ea493",
   "metadata": {},
   "source": [
    "#### Data Rebalancing"
   ]
  },
  {
   "cell_type": "markdown",
   "id": "a4d75cae",
   "metadata": {},
   "source": [
    "i) First we'll try ransom __undersampling of majority class__. "
   ]
  },
  {
   "cell_type": "code",
   "execution_count": 64,
   "id": "c4ed1af8",
   "metadata": {},
   "outputs": [],
   "source": [
    "import imblearn\n",
    "from imblearn.under_sampling import NearMiss\n",
    "from collections import Counter"
   ]
  },
  {
   "cell_type": "code",
   "execution_count": 65,
   "id": "85d2d0c3",
   "metadata": {},
   "outputs": [],
   "source": [
    "# define the undersampling method\n",
    "undersample = NearMiss(version=1, n_neighbors=3)\n",
    "\n",
    "# transform the dataset\n",
    "X_train_undersample, y_train_undersample = undersample.fit_resample(X_train, y_train)\n",
    "\n",
    "# summarize the new class distribution\n",
    "#counter = Counter(y_train_undersample)\n",
    "#print(\"Class balance after undersampling: \", counter)"
   ]
  },
  {
   "cell_type": "code",
   "execution_count": 66,
   "id": "fabee986",
   "metadata": {},
   "outputs": [
    {
     "name": "stdout",
     "output_type": "stream",
     "text": [
      "Size of data before undersampling:  (100, 1)\n",
      "Size of data after undersampling:  (84, 1)\n"
     ]
    }
   ],
   "source": [
    "print('Size of data before undersampling: ', y_train.shape)\n",
    "print('Size of data after undersampling: ', y_train_undersample.shape)"
   ]
  },
  {
   "cell_type": "code",
   "execution_count": 67,
   "id": "8f2f262c",
   "metadata": {},
   "outputs": [],
   "source": [
    "# Train Decision Tree Classifer with the data after undersampling\n",
    "clf = clf.fit(X_train_undersample, y_train_undersample)\n",
    "\n",
    "#Predict the response for test dataset\n",
    "prediction_undersampling = clf.predict(X_test)"
   ]
  },
  {
   "cell_type": "code",
   "execution_count": 68,
   "id": "319061ed",
   "metadata": {},
   "outputs": [
    {
     "name": "stdout",
     "output_type": "stream",
     "text": [
      "Accuracy: 57.69%\n"
     ]
    }
   ],
   "source": [
    "# Checking Model Accuracy\n",
    "import sklearn.metrics as metrics\n",
    "print(\"Accuracy: %.2f%%\" % (metrics.accuracy_score(y_test, prediction_undersampling) * 100))"
   ]
  },
  {
   "cell_type": "code",
   "execution_count": null,
   "id": "d869f6db",
   "metadata": {},
   "outputs": [],
   "source": []
  },
  {
   "cell_type": "markdown",
   "id": "37ff8220",
   "metadata": {},
   "source": [
    "ii) __Oversampling of minority class__"
   ]
  },
  {
   "cell_type": "code",
   "execution_count": 69,
   "id": "cf90cc94",
   "metadata": {},
   "outputs": [],
   "source": [
    "#import imblearn\n",
    "from imblearn.over_sampling import RandomOverSampler\n",
    "#from collections import Counter"
   ]
  },
  {
   "cell_type": "code",
   "execution_count": 70,
   "id": "19af5fb6",
   "metadata": {},
   "outputs": [],
   "source": [
    "# define oversampling strategy\n",
    "oversample = RandomOverSampler(sampling_strategy='minority')   # Oversample the minority class to make it equal to the majority class samples\n",
    "#oversample = RandomOverSampler(sampling_strategy=0.5)\n",
    "\n",
    "X_train_undersample, y_train_undersample = undersample.fit_resample(X_train, y_train)\n",
    "\n",
    "# fit and apply the transform\n",
    "X_train_oversample, y_train_oversample = oversample.fit_resample(X_train, y_train)"
   ]
  },
  {
   "cell_type": "code",
   "execution_count": 71,
   "id": "ad500c77",
   "metadata": {},
   "outputs": [
    {
     "name": "stdout",
     "output_type": "stream",
     "text": [
      "Size of data before oversampling:  (100, 1)\n",
      "Size of data after oversampling:  (116, 1)\n"
     ]
    }
   ],
   "source": [
    "print('Size of data before oversampling: ', y_train.shape)\n",
    "print('Size of data after oversampling: ', y_train_oversample.shape)"
   ]
  },
  {
   "cell_type": "code",
   "execution_count": 72,
   "id": "589ac20a",
   "metadata": {},
   "outputs": [],
   "source": [
    "# Train Decision Tree Classifer with the data after oversampling\n",
    "clf = clf.fit(X_train_oversample, y_train_oversample)\n",
    "\n",
    "#Predict the response for test dataset\n",
    "prediction_oversampling = clf.predict(X_test)"
   ]
  },
  {
   "cell_type": "code",
   "execution_count": 73,
   "id": "45ae779b",
   "metadata": {},
   "outputs": [
    {
     "name": "stdout",
     "output_type": "stream",
     "text": [
      "Accuracy: 57.69%\n"
     ]
    }
   ],
   "source": [
    "# Checking Model Accuracy\n",
    "import sklearn.metrics as metrics\n",
    "print(\"Accuracy: %.2f%%\" % (metrics.accuracy_score(y_test, prediction_oversampling) * 100))"
   ]
  },
  {
   "cell_type": "code",
   "execution_count": null,
   "id": "75aa25b9",
   "metadata": {},
   "outputs": [],
   "source": []
  },
  {
   "cell_type": "markdown",
   "id": "6b9996ed",
   "metadata": {},
   "source": [
    "iii) __Cost sensitive approach__"
   ]
  },
  {
   "cell_type": "code",
   "execution_count": 74,
   "id": "46e39d32",
   "metadata": {},
   "outputs": [],
   "source": [
    "# decision tree with class weight on an imbalanced classification dataset\n",
    "from sklearn.tree import DecisionTreeClassifier\n",
    "from sklearn.model_selection import RepeatedStratifiedKFold\n",
    "from sklearn.model_selection import cross_val_score\n",
    "from numpy import mean"
   ]
  },
  {
   "cell_type": "code",
   "execution_count": 75,
   "id": "71c3466b",
   "metadata": {},
   "outputs": [
    {
     "name": "stdout",
     "output_type": "stream",
     "text": [
      "Mean F1 Score: 58.04%\n"
     ]
    }
   ],
   "source": [
    "# define model\n",
    "clf = DecisionTreeClassifier(class_weight='balanced')\n",
    "# define evaluation procedure\n",
    "cv = RepeatedStratifiedKFold(n_splits=10, n_repeats=3, random_state=1)\n",
    "# evaluate model\n",
    "scores = cross_val_score(clf, X_train, y_train, scoring='f1', cv=cv, n_jobs=-1)\n",
    "# summarize performance\n",
    "print('Mean F1 Score: %.2f%%' % (mean(scores) * 100))"
   ]
  },
  {
   "cell_type": "markdown",
   "id": "195c0562",
   "metadata": {},
   "source": [
    "We can see that there was no performance gain achieved by undersampling and oversampling while there was performance deterioration with the cost-sensitive approach. "
   ]
  },
  {
   "cell_type": "code",
   "execution_count": null,
   "id": "67cff4cc",
   "metadata": {},
   "outputs": [],
   "source": []
  },
  {
   "cell_type": "code",
   "execution_count": null,
   "id": "7266f1ea",
   "metadata": {},
   "outputs": [],
   "source": []
  }
 ],
 "metadata": {
  "kernelspec": {
   "display_name": "Python 3 (ipykernel)",
   "language": "python",
   "name": "python3"
  },
  "language_info": {
   "codemirror_mode": {
    "name": "ipython",
    "version": 3
   },
   "file_extension": ".py",
   "mimetype": "text/x-python",
   "name": "python",
   "nbconvert_exporter": "python",
   "pygments_lexer": "ipython3",
   "version": "3.9.12"
  }
 },
 "nbformat": 4,
 "nbformat_minor": 5
}
